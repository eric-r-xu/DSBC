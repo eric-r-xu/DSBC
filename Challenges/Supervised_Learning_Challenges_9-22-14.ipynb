{
 "metadata": {
  "name": "",
  "signature": "sha256:9158028e440e36afb6d7c129dcf3f51c21accc5392813cfdd316809f6c46ae52"
 },
 "nbformat": 3,
 "nbformat_minor": 0,
 "worksheets": [
  {
   "cells": [
    {
     "cell_type": "markdown",
     "metadata": {},
     "source": [
      "Challenges\n",
      "\n",
      "Download the congressional votes data from here13.\n",
      "These are votes of U.S. House of Representatives Congressmen on 16 key issues in 1984.\n",
      "Read the description of the fields and download the data (house-votes-84.data)\n",
      "We will try to see if we can predict the house members' party based on their votes.\n",
      "We will also use some of the general machine learning tools we learned (a bit more efficiently this time)\n",
      "\n",
      "\n",
      "Challenge 1\n",
      "\n",
      "Load the data into a pandas dataframe. Replace 'y's with 1s, 'n's with 0s.\n",
      "Now, almost every representative has a ?. This represents a no vote (they were absent or some other similar reason). If we dropped all the rows that had a ?, we would throw out most of our data. Instead, we will replace ? with the best guess in the Bayesian sense: in the absence of any other information, we will say that the probability of the representative saying YES is the ratio of others that said YES over the whole votes.\n",
      "So, convert each ? to this probability (when yes=1 and no=0, this is the mean of the column)\n",
      "\n",
      "\n",
      "Challenge 2\n",
      "\n",
      "Split the data into a test and training set. But this time, use this function: from sklearn.cross_validation import train_test_split\n",
      "\n",
      "\n",
      "Challenge 3\n",
      "\n",
      "Using scikit.learn's KNN algorithm, train a model that predicts the party (republican/democrat) from sklearn.neighbors import KNeighborsClassifier\n",
      "\n",
      "Try it with a lot of different k values (number of neighbors), from 1 to 20, and on the test set calculate the accuracy (number of correct predictions / number of all predictions) for each k\n",
      "\n",
      "You can use this to calculate accuracy: from sklearn.metrics import accuracy_score\n",
      "\n",
      "Which k value gives the highest accuracy?"
     ]
    },
    {
     "cell_type": "code",
     "collapsed": false,
     "input": [
      "\n",
      "import pandas as pd\n",
      "df=pd.read_csv('house.txt')\n",
      "df.columns = pd.Index([u'A1', u'A2', u'A3', u'A4', u'A5', u'A6', u'A7', u'A8', u'A9', u'A10', u'A11', u'A12', u'A13', u'A14', u'A15', u'A16', u'A17'])\n",
      "df=df.replace('y', 1)\n",
      "df=df.replace('n', 0)\n",
      "import numpy as np\n",
      "df=df.replace('?',np.nan)\n",
      "df.mean()\n",
      "df=df.fillna(df.mean())\n",
      "from sklearn.cross_validation import train_test_split\n",
      "df.to_csv('House922noind.csv',index=False)\n",
      "dftrain, dftest= train_test_split(df, test_size=0.25)\n",
      "from sklearn.neighbors import KNeighborsClassifier\n",
      "from sklearn.metrics import accuracy_score\n",
      "dfx_train=dftrain[:,1:18]\n",
      "dfy_train=dftrain[:,0]\n",
      "dfx_test=dftest[:,1:18]\n",
      "dfy_test=dftest[:,0]\n",
      "dfx_all=df.values[:,1:18]\n",
      "dfy_all=df.values[:,0]\n",
      "#print df\n",
      "from sklearn import metrics\n",
      "for x in range(1, 21):\n",
      "    clf = KNeighborsClassifier(n_neighbors=x)\n",
      "    clf.fit(dfx_train, dfy_train)\n",
      "    y_pred = clf.predict(dfx_test)\n",
      "    \n",
      "    print \"KNN classification accuracy with k =\",x, \" \",metrics.accuracy_score(dfy_test, y_pred)\n",
      "    \n",
      "\n",
      "from sklearn.linear_model import LogisticRegression \n",
      "#from statsmodels.formula.api import Logit\n",
      "\n",
      "\n",
      "logitmodel = LogisticRegression()\n",
      "logitmodel.fit(dfx_train, dfy_train)\n",
      "y_pred = logitmodel.predict(dfx_test)\n",
      "print \"-------------------------------------\"\n",
      "print \"Logistic classification accuracy with logistic regression\",metrics.accuracy_score(dfy_test, y_pred)"
     ],
     "language": "python",
     "metadata": {},
     "outputs": [
      {
       "output_type": "stream",
       "stream": "stdout",
       "text": [
        "KNN classification accuracy with k = 1   0.963302752294\n",
        "KNN classification accuracy with k = 2   0.963302752294\n",
        "KNN classification accuracy with k = 3   0.963302752294\n",
        "KNN classification accuracy with k = 4   0.954128440367\n",
        "KNN classification accuracy with k = 5   0.963302752294\n",
        "KNN classification accuracy with k = 6   0.963302752294\n",
        "KNN classification accuracy with k = 7   0.97247706422\n",
        "KNN classification accuracy with k = 8   0.963302752294\n",
        "KNN classification accuracy with k = 9   0.963302752294\n",
        "KNN classification accuracy with k = 10   0.963302752294\n",
        "KNN classification accuracy with k = 11   0.963302752294\n",
        "KNN classification accuracy with k ="
       ]
      },
      {
       "output_type": "stream",
       "stream": "stdout",
       "text": [
        " 12   0.963302752294\n",
        "KNN classification accuracy with k = 13   0.963302752294\n",
        "KNN classification accuracy with k = 14   0.963302752294\n",
        "KNN classification accuracy with k = 15   0.963302752294\n",
        "KNN classification accuracy with k = 16   0.963302752294\n",
        "KNN classification accuracy with k = 17   0.963302752294\n",
        "KNN classification accuracy with k = 18   0.963302752294\n",
        "KNN classification accuracy with k = 19   0.954128440367\n",
        "KNN classification accuracy with k = 20   0.963302752294\n",
        "-------------------------------------\n",
        "Logistic classification accuracy with logistic regression 0.97247706422\n"
       ]
      }
     ],
     "prompt_number": 6
    },
    {
     "cell_type": "markdown",
     "metadata": {},
     "source": [
      "Challenge 5\n",
      "\n",
      "Make a bar graph of democrats and republicans. How many of each are there? Make a very simple predictor that predicts 'democrat' for every incoming example. (Just make a function that takes in an X --an array or matrix with input examples--, and returns an array of the same length as X, where each value is 'democrat'. For example, if X is three rows, your function should return ['democrat','democrat','democrat']) Make a y_predicted vector using this and measure its accuracy. Do the same with predicting 'republican' all the time and measure its accuracy.\n",
      "\n",
      "\n",
      "Challenge 6\n",
      "\n",
      "Plot the accuracies as a function of k. Since k only matters for KNN, your logistic regression accuracy, 'democrat' predictor accuracy and 'republican' predictor accuracy will stay the same over all k, so each of these three will be a horizontal line. But the KNN accuracy will change with k."
     ]
    },
    {
     "cell_type": "code",
     "collapsed": false,
     "input": [
      "df_y_all=df.ix[:,0]\n",
      "df_y_all\n",
      "print \"total democrats and republicans: \",len(df_y_all)\n",
      "A1count=df.groupby('A1').size()\n",
      "print A1count\n",
      "import pylab as pl\n",
      "%matplotlib inline\n",
      "fig = pl.figure(figsize=(15,5))\n",
      "fig = pl.figure()\n",
      "ax = pl.subplot(111)\n",
      "ax.bar([1,2],[A1count[0],A1count[1]], align=\"center\",alpha=0.5)\n",
      "\n",
      "ax.set_xticks([1,2])        \n",
      "ax.set_xticklabels(['democrats','republicans'])\n",
      "pl.ylabel('#')\n",
      "pl.show()\n",
      "def RepublicanPred(XDATA):\n",
      "    OUTPUT=[]\n",
      "    for each in XDATA:\n",
      "        OUTPUT.append('republican')\n",
      "    return OUTPUT\n",
      "\n",
      "def DemocratPred(XDATA):\n",
      "    OUTPUT=[]\n",
      "    for each in XDATA:\n",
      "        OUTPUT.append('democrat')\n",
      "    return OUTPUT\n",
      "\n",
      "y_pred = DemocratPred(dfx_test)\n",
      "print \"Democrat: classification accuracy\",metrics.accuracy_score(dfy_test, y_pred)\n",
      "y_pred = RepublicanPred(dfx_test)\n",
      "print \"Republican: classification accuracy\",metrics.accuracy_score(dfy_test, y_pred)\n",
      "kPlotX=[]\n",
      "kPlotY=[]\n",
      "logPlotY=[]\n",
      "DPlotY=[]\n",
      "RPlotY=[]\n",
      "for x in range(1, 21):\n",
      "    clf = KNeighborsClassifier(n_neighbors=x)\n",
      "    clf.fit(dfx_train, dfy_train)\n",
      "    y_pred = clf.predict(dfx_test)\n",
      "    kPlotX.append(x)\n",
      "    #print \"classification accuracy with k =\",x, \" \",metrics.accuracy_score(dfy_test, y_pred)\n",
      "    kPlotY.append(metrics.accuracy_score(dfy_test, y_pred))\n",
      "    \n",
      "    logitmodel = LogisticRegression()\n",
      "    logitmodel.fit(dfx_train, dfy_train)\n",
      "    y_pred = logitmodel.predict(dfx_test)\n",
      "    #print \"classification accuracy with logistic regression\",metrics.accuracy_score(dfy_test, y_pred)\n",
      "    logPlotY.append(metrics.accuracy_score(dfy_test, y_pred))\n",
      "    \n",
      "    y_pred = DemocratPred(dfx_test)\n",
      "    DPlotY.append(metrics.accuracy_score(dfy_test, y_pred))\n",
      "    y_pred = RepublicanPred(dfx_test)\n",
      "    RPlotY.append(metrics.accuracy_score(dfy_test, y_pred))    \n",
      "#pl.figure(1)\n",
      "#pl.subplot(111)\n",
      "pl.xlabel('k nearest neighbor(s)')\n",
      "pl.ylabel('accuracy')\n",
      "pl.title('classification accuracy of different models')\n",
      "knn, = pl.plot(kPlotX, kPlotY)\n",
      "logit, = pl.plot(kPlotX, logPlotY)\n",
      "democ, = pl.plot(kPlotX, DPlotY)\n",
      "repub, = pl.plot(kPlotX, RPlotY)\n",
      "pl.legend((logit,knn,democ,repub),\n",
      "           (\"LogitReg\",\"KNN\",\"Democrat\", \"Republican\"),\n",
      "           loc='best')\n",
      "pl.show()"
     ],
     "language": "python",
     "metadata": {},
     "outputs": [
      {
       "output_type": "stream",
       "stream": "stdout",
       "text": [
        "total democrats and republicans:  434\n",
        "A1\n",
        "democrat      267\n",
        "republican    167\n",
        "dtype: int64\n"
       ]
      },
      {
       "metadata": {},
       "output_type": "display_data",
       "text": [
        "<matplotlib.figure.Figure at 0x109e99390>"
       ]
      },
      {
       "metadata": {},
       "output_type": "display_data",
       "png": "[encoded data removed]",
       "text": [
        "<matplotlib.figure.Figure at 0x109e993d0>"
       ]
      },
      {
       "output_type": "stream",
       "stream": "stdout",
       "text": [
        "Democrat: classification accuracy 0.614678899083\n",
        "Republican: classification accuracy 0.385321100917\n"
       ]
      },
      {
       "metadata": {},
       "output_type": "display_data",
       "png": "[encoded data removed]",
       "text": [
        "<matplotlib.figure.Figure at 0x10a077490>"
       ]
      }
     ],
     "prompt_number": 7
    },
    {
     "cell_type": "markdown",
     "metadata": {},
     "source": [
      "Challenge 7\n",
      "\n",
      "Plot a learning curve for the logistic regression model. But instead of going through the painstaking steps of doing it yourself, use this function:\n",
      "from sklearn.learning_curve import learning_curve\n",
      "\n",
      "This will give you the m, training errors and testing errors. All you need to do is plot them. You don't even need to give it separate training/test sets. It will do crossvalidation all by itself. Easy, isn't it? : )\n",
      "\n",
      "Remember, since it does cross-validation, it doesn't have a single training error or test error per m value. Instead, it has one for each fold (separate partition) of the cross validation. A good idea is to take the mean of these errors from different folds. This gives you a meaningful single number per m. What I mean is that doing something like: train_cv_err = np.mean(train_err,axis=1) test_cv_err = np.mean(ts_err,axis=1)\n",
      "\n",
      "before plotting m vs train_cv_err and m vs test_cv_err, where train_err and test_err are the vectors returned by the learning curve function. The np.mean(...., axis=1) means take the mean along axis 1 (axis 1 is the columns axis-- for each row, you have a bunch of columns, each corresponding to a cross validation fold, you are averaging these columns for each row).\n",
      "\n",
      "Draw the learning curve for KNN with the best k value as well."
     ]
    },
    {
     "cell_type": "code",
     "collapsed": false,
     "input": [
      "from sklearn.learning_curve import learning_curve\n",
      "\n",
      "df_array=df.values\n",
      "df_x=df_array[:,0]\n",
      "df_y=df_array[:,1:18]\n",
      "m, train_scores, test_scores=learning_curve(logitmodel, dfx_all, dfy_all,train_sizes=np.linspace(0.1, 1.0, 196))\n",
      "train_cv_err = np.mean(train_scores,axis=1) \n",
      "test_cv_err = np.mean(test_scores,axis=1)\n",
      "\n",
      "tr, = pl.plot(m,train_cv_err)\n",
      "ts, = pl.plot(m,test_cv_err)\n",
      "pl.legend((tr,ts),('training','test'),loc='best')\n",
      "pl.title('Logistic Regression Learning Curve')\n",
      "pl.xlabel('folds (m)')\n",
      "pl.ylabel('accuracy')\n",
      "pl.show()\n",
      "m, train_scores, test_scores=learning_curve(KNeighborsClassifier(n_neighbors=7), dfx_train, dfy_train, train_sizes=np.linspace(0.1, 1, 196))\n",
      "train_cv_err = np.mean(train_scores,axis=1) \n",
      "test_cv_err = np.mean(test_scores,axis=1)\n",
      "\n",
      "tr, =pl.plot(m,train_cv_err)\n",
      "ts, = pl.plot(m,test_cv_err)\n",
      "pl.legend((tr,ts),('training','test'),loc='best')\n",
      "pl.title('KNN with k=7 Learning Curve')\n",
      "pl.xlabel('folds (m)')\n",
      "pl.ylabel('accuracy')"
     ],
     "language": "python",
     "metadata": {},
     "outputs": [
      {
       "metadata": {},
       "output_type": "display_data",
       "png": "[encoded data removed]",
       "text": [
        "<matplotlib.figure.Figure at 0x10a182910>"
       ]
      },
      {
       "metadata": {},
       "output_type": "pyout",
       "prompt_number": 8,
       "text": [
        "<matplotlib.text.Text at 0x10a3497d0>"
       ]
      },
      {
       "metadata": {},
       "output_type": "display_data",
       "png": "[encoded data removed]",
       "text": [
        "<matplotlib.figure.Figure at 0x10a077290>"
       ]
      }
     ],
     "prompt_number": 8
    },
    {
     "cell_type": "markdown",
     "metadata": {},
     "source": [
      "Challenge 8\n",
      "\n",
      "This is a preview of many other classification algorithms that we will go over. Scikit.learn has the same interface for all of these, so you can use them exactly the same way as you did LogisticRegression and KNeighborsClassifier. Use each of these to classify your data and print the test accuracy of each:\n",
      "\n",
      "Gaussian Naive Bayes \n",
      "from sklearn.naive_bayes import GaussianNB\n",
      "\n",
      "SVM (Support Vector Machine) Classifier\n",
      "from sklearn.svm import SVC\n",
      "\n",
      "Decision Tree\n",
      "from sklearn.tree import DecisionTreeClassifier\n",
      "\n",
      "Random Forest\n",
      "from sklearn.ensemble import RandomForestClassifier"
     ]
    },
    {
     "cell_type": "code",
     "collapsed": false,
     "input": [
      "from sklearn.naive_bayes import GaussianNB\n",
      "from sklearn.svm import SVC\n",
      "from sklearn.tree import DecisionTreeClassifier\n",
      "from sklearn.ensemble import RandomForestClassifier\n",
      "\n",
      "\n",
      "GNB = GaussianNB()\n",
      "GNB.fit(dfx_train, dfy_train)\n",
      "y_pred = GNB.predict(dfx_test)\n",
      "print \"GaussianNB classification accuracy: \",metrics.accuracy_score(dfy_test, y_pred)\n",
      "model=SVC()\n",
      "model.fit(dfx_train, dfy_train)\n",
      "y_pred = model.predict(dfx_test)\n",
      "print \"SVC classification accuracy: \",metrics.accuracy_score(dfy_test, y_pred)\n",
      "DTC = DecisionTreeClassifier()\n",
      "DTC.fit(dfx_train, dfy_train)\n",
      "y_pred = DTC.predict(dfx_test)\n",
      "print \"DecisionTreeClassifier classification accuracy: \",metrics.accuracy_score(dfy_test, y_pred)\n",
      "RFC = RandomForestClassifier()\n",
      "RFC.fit(dfx_train, dfy_train)\n",
      "y_pred = RFC.predict(dfx_test)\n",
      "print \"RandomForestClassifier: classification accuracy\",metrics.accuracy_score(dfy_test, y_pred)"
     ],
     "language": "python",
     "metadata": {},
     "outputs": [
      {
       "output_type": "stream",
       "stream": "stdout",
       "text": [
        "GaussianNB classification accuracy:  0.97247706422\n",
        "SVC classification accuracy:  0.97247706422\n",
        "DecisionTreeClassifier classification accuracy:  0.981651376147\n",
        "RandomForestClassifier: classification accuracy 0.981651376147\n"
       ]
      }
     ],
     "prompt_number": 9
    },
    {
     "cell_type": "markdown",
     "metadata": {},
     "source": [
      "Challenge 9\n",
      "\n",
      "There is actually a way to do cross validation quickly to get your accuracy results for an algorithm, without separating training and test yourself: from sklearn.cross_validation import cross_val_score\n",
      "\n",
      "Just like the learning_curve function, this takes a classifier object, X and Y. Returns accuracy (or whatever score you prefer by using the scoring keyword argument). Of course, it will return a score for each cross validation fold, so to get the generalized accuracy, you need to take the mean of what it returns.\n",
      "\n",
      "Use this function to calculate the cross validation score of each of the classifiers you tried before."
     ]
    },
    {
     "cell_type": "code",
     "collapsed": false,
     "input": [
      "from sklearn.cross_validation import cross_val_score\n",
      "\n",
      "algorith_name = []\n",
      "algorithm_accuracy = []\n",
      "for algorithm in (KNeighborsClassifier,\n",
      "                  LogisticRegression, \n",
      "                  GaussianNB,\n",
      "                  SVC,\n",
      "                  DecisionTreeClassifier,\n",
      "                  RandomForestClassifier):\n",
      "\n",
      "    accuracy = np.mean(cross_val_score(algorithm(), dfx_all,dfy_all, cv=20)) \n",
      "    print algorithm.__name__ , \"accuracy: \" , accuracy"
     ],
     "language": "python",
     "metadata": {},
     "outputs": [
      {
       "output_type": "stream",
       "stream": "stdout",
       "text": [
        "KNeighborsClassifier accuracy:  0.921532091097\n",
        "LogisticRegression"
       ]
      },
      {
       "output_type": "stream",
       "stream": "stdout",
       "text": [
        " accuracy:  0.95817805383\n",
        "GaussianNB"
       ]
      },
      {
       "output_type": "stream",
       "stream": "stdout",
       "text": [
        " accuracy:  0.939958592133\n",
        "SVC"
       ]
      },
      {
       "output_type": "stream",
       "stream": "stdout",
       "text": [
        " accuracy:  0.955797101449\n",
        "DecisionTreeClassifier"
       ]
      },
      {
       "output_type": "stream",
       "stream": "stdout",
       "text": [
        " accuracy:  0.930020703934\n",
        "RandomForestClassifier"
       ]
      },
      {
       "output_type": "stream",
       "stream": "stdout",
       "text": [
        " accuracy:  0.95082815735\n"
       ]
      }
     ],
     "prompt_number": 10
    },
    {
     "cell_type": "markdown",
     "metadata": {},
     "source": [
      "Challenge 10\n",
      "\n",
      "Instead of 'democrat' or 'republican', can you predict the vote of a representative based on their other votes?\n",
      "\n",
      "Reload the data from scratch. Convert y-->1, n-->0. Choose one vote. Build a classifier (logistic regression or KNN), that uses the other votes (do not use the party as a feature) to predict if the vote will be 1 or 0.\n",
      "\n",
      "Convert each ? to the mode of the column (if a senator has not voted, make their vote 1 if most others voted 1, make it 0 if most others voted 0).\n",
      "\n",
      "Calculate the cross validation accuracy of your classifier for predicting how each representative will vote on the issue."
     ]
    },
    {
     "cell_type": "code",
     "collapsed": false,
     "input": [
      "df=[];\n",
      "df=pd.read_csv('house.txt', header=None)\n",
      "df=df.replace('y', 1)\n",
      "df=df.replace('n', 0)\n",
      "df=df.replace('?',np.nan)\n",
      "\n",
      "feature_columns = range(1,10)+range(11,17)\n",
      "#Replace missing values with the column's mode\n",
      "for column in range(1,17):\n",
      "    colmode = df[column].mode()[0]   \n",
      "    df.loc[np.isnan(df[column]), column] = colmode\n",
      "\n",
      "dfx_all = df[feature_columns]\n",
      "dfy_all = df[10]\n",
      "for algorithm in (KNeighborsClassifier,\n",
      "                  LogisticRegression, \n",
      "                  GaussianNB,\n",
      "                  SVC,\n",
      "                  DecisionTreeClassifier,\n",
      "                  RandomForestClassifier):\n",
      "\n",
      "    accuracy = np.mean(cross_val_score(algorithm(), dfx_all,dfy_all)) \n",
      "    print algorithm.__name__ , \"accuracy: \" , accuracy"
     ],
     "language": "python",
     "metadata": {},
     "outputs": [
      {
       "output_type": "stream",
       "stream": "stdout",
       "text": [
        "KNeighborsClassifier accuracy:  0.528657779177\n",
        "LogisticRegression accuracy:  0.523900216939\n",
        "GaussianNB accuracy:  0.459768584125\n",
        "SVC"
       ]
      },
      {
       "output_type": "stream",
       "stream": "stdout",
       "text": [
        " accuracy:  0.473688526741\n",
        "DecisionTreeClassifier accuracy:  0.48256814325\n",
        "RandomForestClassifier"
       ]
      },
      {
       "output_type": "stream",
       "stream": "stdout",
       "text": [
        " accuracy:  0.501038331671\n"
       ]
      }
     ],
     "prompt_number": 11
    },
    {
     "cell_type": "markdown",
     "metadata": {},
     "source": [
      "Challenge 11\n",
      "\n",
      "Back to your movie data! Choose one categoric feature to predict. I chose MPAA Rating, but genre, month, etc. are all decent choices. If you don't have any non-numeric features, you can make two bins out of a numeric one (like \"Runtime>100 mins\" and \"Runtime<=100 mins\")\n",
      "\n",
      "Make a bar graph of how many of each movie there is in the data. For example, with Ratings, show how many G, PG, PG-13, R movies there are, etc. (basically a histogram of your labels).\n",
      "\n",
      "Predict your outcome variable (labels) using KNN and logistic regression. Calculate their accuracies.\n",
      "\n",
      "Make a baseline stupid predictor that always predicts the label that is present the most in the data. Calculate its accuracy on a test set.\n",
      "\n",
      "How much better do KNN and logistic regression do versus the baseline?\n",
      "\n",
      "What are the coefficients of logistic regression? Which features affect the outcome how?"
     ]
    },
    {
     "cell_type": "code",
     "collapsed": false,
     "input": [
      "%matplotlib inline\n",
      "from datetime import datetime\n",
      "import pickle\n",
      "movie_data=[]\n",
      "\n",
      "movie_data = pd.read_csv('mv_df_budget.csv')\n",
      "\n",
      "movie_data.head()\n",
      "movie_data.groupby('month')['title'].count().plot(kind='bar')\n",
      "pl.ylabel('number of movies')"
     ],
     "language": "python",
     "metadata": {},
     "outputs": [
      {
       "metadata": {},
       "output_type": "pyout",
       "prompt_number": 33,
       "text": [
        "<matplotlib.text.Text at 0x10aa01d90>"
       ]
      },
      {
       "metadata": {},
       "output_type": "display_data",
       "png": "[encoded data removed]",
       "text": [
        "<matplotlib.figure.Figure at 0x10a9eb5d0>"
       ]
      }
     ],
     "prompt_number": 33
    },
    {
     "cell_type": "code",
     "collapsed": false,
     "input": [
      "X = movie_data[['runtime','profit','budget','theater_number','months_release','year']]\n",
      "Y = movie_data['month']\n",
      "\n",
      "for k in range(1,69):\n",
      "    model = KNeighborsClassifier(n_neighbors=k)\n",
      "    accuracy = np.mean(cross_val_score(model, X,Y, cv=10))\n",
      "    print 'KNN(k=%i) accuracy: %.3f' % (k,accuracy)\n",
      "    \n",
      "model = LogisticRegression()\n",
      "accuracy = np.mean(cross_val_score(model, X,Y, cv=10))\n",
      "print 'Logistic Regression (L2 penalty) accuracy: %.3f' % accuracy\n",
      "\n",
      "model = LogisticRegression(penalty='l1')\n",
      "accuracy = np.mean(cross_val_score(model, X,Y, cv=10))\n",
      "print 'Logistic Regression (L1 penalty) accuracy: %.3f' % accuracy\n",
      "# Ok, let's also check different C values. C is just like alpha in Ridge Regression,\n",
      "# It let's us fine tune how much regularization (how much shrinking) we will do on\n",
      "# coeefficients. Default C is 1.0. Small C means more shrinking, tends to underfit,\n",
      "# Large C means less shrinking, tends to overfit.\n",
      "for C in np.linspace(0.05,100,10):\n",
      "    model = LogisticRegression(penalty='l1', C=C)\n",
      "    accuracy = np.mean(cross_val_score(model, X,Y, cv=10))\n",
      "    print 'Logistic Regression (L1 penalty, C=%.2f) accuracy: %.3f' % (C,accuracy)"
     ],
     "language": "python",
     "metadata": {},
     "outputs": [
      {
       "output_type": "stream",
       "stream": "stdout",
       "text": [
        "KNN(k=1) accuracy: 0.405\n",
        "KNN(k=2) accuracy: 0.225"
       ]
      },
      {
       "output_type": "stream",
       "stream": "stdout",
       "text": [
        "\n",
        "KNN(k=3) accuracy: 0.134"
       ]
      },
      {
       "output_type": "stream",
       "stream": "stdout",
       "text": [
        "\n",
        "KNN(k=4) accuracy: 0.136"
       ]
      },
      {
       "output_type": "stream",
       "stream": "stdout",
       "text": [
        "\n",
        "KNN(k=5) accuracy: 0.143"
       ]
      },
      {
       "output_type": "stream",
       "stream": "stdout",
       "text": [
        "\n",
        "KNN(k=6) accuracy: 0.150"
       ]
      },
      {
       "output_type": "stream",
       "stream": "stdout",
       "text": [
        "\n",
        "KNN(k=7) accuracy: 0.184"
       ]
      },
      {
       "output_type": "stream",
       "stream": "stdout",
       "text": [
        "\n",
        "KNN(k=8) accuracy: 0.185"
       ]
      },
      {
       "output_type": "stream",
       "stream": "stdout",
       "text": [
        "\n",
        "KNN(k=9) accuracy: 0.189"
       ]
      },
      {
       "output_type": "stream",
       "stream": "stdout",
       "text": [
        "\n",
        "KNN(k=10) accuracy: 0.197"
       ]
      },
      {
       "output_type": "stream",
       "stream": "stdout",
       "text": [
        "\n",
        "KNN(k=11) accuracy: 0.161"
       ]
      },
      {
       "output_type": "stream",
       "stream": "stdout",
       "text": [
        "\n",
        "KNN(k=12) accuracy: 0.179"
       ]
      },
      {
       "output_type": "stream",
       "stream": "stdout",
       "text": [
        "\n",
        "KNN(k=13) accuracy: 0.189"
       ]
      },
      {
       "output_type": "stream",
       "stream": "stdout",
       "text": [
        "\n",
        "KNN(k=14) accuracy: 0.177"
       ]
      },
      {
       "output_type": "stream",
       "stream": "stdout",
       "text": [
        "\n",
        "KNN(k=15) accuracy: 0.209"
       ]
      },
      {
       "output_type": "stream",
       "stream": "stdout",
       "text": [
        "\n",
        "KNN(k=16) accuracy: 0.203"
       ]
      },
      {
       "output_type": "stream",
       "stream": "stdout",
       "text": [
        "\n",
        "KNN(k=17) accuracy: 0.187"
       ]
      },
      {
       "output_type": "stream",
       "stream": "stdout",
       "text": [
        "\n",
        "KNN(k=18) accuracy: 0.203"
       ]
      },
      {
       "output_type": "stream",
       "stream": "stdout",
       "text": [
        "\n",
        "KNN(k=19) accuracy: 0.194"
       ]
      },
      {
       "output_type": "stream",
       "stream": "stdout",
       "text": [
        "\n",
        "KNN(k=20) accuracy: 0.191"
       ]
      },
      {
       "output_type": "stream",
       "stream": "stdout",
       "text": [
        "\n",
        "KNN(k=21) accuracy: 0.195"
       ]
      },
      {
       "output_type": "stream",
       "stream": "stdout",
       "text": [
        "\n",
        "KNN(k=22) accuracy: 0.195"
       ]
      },
      {
       "output_type": "stream",
       "stream": "stdout",
       "text": [
        "\n",
        "KNN(k=23) accuracy: 0.189"
       ]
      },
      {
       "output_type": "stream",
       "stream": "stdout",
       "text": [
        "\n",
        "KNN(k=24) accuracy: 0.196"
       ]
      },
      {
       "output_type": "stream",
       "stream": "stdout",
       "text": [
        "\n",
        "KNN(k=25) accuracy: 0.189"
       ]
      },
      {
       "output_type": "stream",
       "stream": "stdout",
       "text": [
        "\n",
        "KNN(k=26) accuracy: 0.195"
       ]
      },
      {
       "output_type": "stream",
       "stream": "stdout",
       "text": [
        "\n",
        "KNN(k=27) accuracy: 0.215"
       ]
      },
      {
       "output_type": "stream",
       "stream": "stdout",
       "text": [
        "\n",
        "KNN(k=28) accuracy: 0.222"
       ]
      },
      {
       "output_type": "stream",
       "stream": "stdout",
       "text": [
        "\n",
        "KNN(k=29) accuracy: 0.233"
       ]
      },
      {
       "output_type": "stream",
       "stream": "stdout",
       "text": [
        "\n",
        "KNN(k=30) accuracy: 0.222"
       ]
      },
      {
       "output_type": "stream",
       "stream": "stdout",
       "text": [
        "\n",
        "KNN(k=31) accuracy: 0.225"
       ]
      },
      {
       "output_type": "stream",
       "stream": "stdout",
       "text": [
        "\n",
        "KNN(k=32) accuracy: 0.196"
       ]
      },
      {
       "output_type": "stream",
       "stream": "stdout",
       "text": [
        "\n",
        "KNN(k=33) accuracy: 0.210"
       ]
      },
      {
       "output_type": "stream",
       "stream": "stdout",
       "text": [
        "\n",
        "KNN(k=34) accuracy: 0.216"
       ]
      },
      {
       "output_type": "stream",
       "stream": "stdout",
       "text": [
        "\n",
        "KNN(k=35) accuracy: 0.216"
       ]
      },
      {
       "output_type": "stream",
       "stream": "stdout",
       "text": [
        "\n",
        "KNN(k=36) accuracy: 0.204"
       ]
      },
      {
       "output_type": "stream",
       "stream": "stdout",
       "text": [
        "\n",
        "KNN(k=37) accuracy: 0.223"
       ]
      },
      {
       "output_type": "stream",
       "stream": "stdout",
       "text": [
        "\n",
        "KNN(k=38) accuracy: 0.222"
       ]
      },
      {
       "output_type": "stream",
       "stream": "stdout",
       "text": [
        "\n",
        "KNN(k=39) accuracy: 0.223"
       ]
      },
      {
       "output_type": "stream",
       "stream": "stdout",
       "text": [
        "\n",
        "KNN(k=40) accuracy: 0.220"
       ]
      },
      {
       "output_type": "stream",
       "stream": "stdout",
       "text": [
        "\n",
        "KNN(k=41) accuracy: 0.207"
       ]
      },
      {
       "output_type": "stream",
       "stream": "stdout",
       "text": [
        "\n",
        "KNN(k=42) accuracy: 0.220"
       ]
      },
      {
       "output_type": "stream",
       "stream": "stdout",
       "text": [
        "\n",
        "KNN(k=43) accuracy: 0.207"
       ]
      },
      {
       "output_type": "stream",
       "stream": "stdout",
       "text": [
        "\n",
        "KNN(k=44) accuracy: 0.225"
       ]
      },
      {
       "output_type": "stream",
       "stream": "stdout",
       "text": [
        "\n",
        "KNN(k=45) accuracy: 0.220"
       ]
      },
      {
       "output_type": "stream",
       "stream": "stdout",
       "text": [
        "\n",
        "KNN(k=46) accuracy: 0.230"
       ]
      },
      {
       "output_type": "stream",
       "stream": "stdout",
       "text": [
        "\n",
        "KNN(k=47) accuracy: 0.225"
       ]
      },
      {
       "output_type": "stream",
       "stream": "stdout",
       "text": [
        "\n",
        "KNN(k=48) accuracy: 0.231"
       ]
      },
      {
       "output_type": "stream",
       "stream": "stdout",
       "text": [
        "\n",
        "KNN(k=49) accuracy: 0.226"
       ]
      },
      {
       "output_type": "stream",
       "stream": "stdout",
       "text": [
        "\n",
        "KNN(k=50) accuracy: 0.221"
       ]
      },
      {
       "output_type": "stream",
       "stream": "stdout",
       "text": [
        "\n",
        "KNN(k=51) accuracy: 0.211"
       ]
      },
      {
       "output_type": "stream",
       "stream": "stdout",
       "text": [
        "\n",
        "KNN(k=52) accuracy: 0.211"
       ]
      },
      {
       "output_type": "stream",
       "stream": "stdout",
       "text": [
        "\n",
        "KNN(k=53) accuracy: 0.222"
       ]
      },
      {
       "output_type": "stream",
       "stream": "stdout",
       "text": [
        "\n",
        "KNN(k=54) accuracy: 0.215"
       ]
      },
      {
       "output_type": "stream",
       "stream": "stdout",
       "text": [
        "\n",
        "KNN(k=55) accuracy: 0.223"
       ]
      },
      {
       "output_type": "stream",
       "stream": "stdout",
       "text": [
        "\n",
        "KNN(k=56) accuracy: 0.223"
       ]
      },
      {
       "output_type": "stream",
       "stream": "stdout",
       "text": [
        "\n",
        "KNN(k=57) accuracy: 0.207"
       ]
      },
      {
       "output_type": "stream",
       "stream": "stdout",
       "text": [
        "\n",
        "KNN(k=58) accuracy: 0.213"
       ]
      },
      {
       "output_type": "stream",
       "stream": "stdout",
       "text": [
        "\n",
        "KNN(k=59) accuracy: 0.223"
       ]
      },
      {
       "output_type": "stream",
       "stream": "stdout",
       "text": [
        "\n",
        "KNN(k=60) accuracy: 0.212"
       ]
      },
      {
       "output_type": "stream",
       "stream": "stdout",
       "text": [
        "\n",
        "KNN(k=61) accuracy: 0.205"
       ]
      },
      {
       "output_type": "stream",
       "stream": "stdout",
       "text": [
        "\n",
        "KNN(k=62) accuracy: 0.201"
       ]
      },
      {
       "output_type": "stream",
       "stream": "stdout",
       "text": [
        "\n",
        "KNN(k=63) accuracy: 0.201"
       ]
      },
      {
       "output_type": "stream",
       "stream": "stdout",
       "text": [
        "\n",
        "KNN(k=64) accuracy: 0.201"
       ]
      },
      {
       "output_type": "stream",
       "stream": "stdout",
       "text": [
        "\n",
        "KNN(k=65) accuracy: 0.201"
       ]
      },
      {
       "output_type": "stream",
       "stream": "stdout",
       "text": [
        "\n",
        "KNN(k=66) accuracy: 0.201"
       ]
      },
      {
       "output_type": "stream",
       "stream": "stdout",
       "text": [
        "\n",
        "KNN(k=67) accuracy: 0.201"
       ]
      },
      {
       "output_type": "stream",
       "stream": "stdout",
       "text": [
        "\n",
        "KNN(k=68) accuracy: 0.201"
       ]
      },
      {
       "output_type": "stream",
       "stream": "stdout",
       "text": [
        "\n",
        "Logistic Regression (L2 penalty) accuracy: 0.218"
       ]
      },
      {
       "output_type": "stream",
       "stream": "stdout",
       "text": [
        "\n",
        "Logistic Regression (L1 penalty) accuracy: 0.190"
       ]
      },
      {
       "output_type": "stream",
       "stream": "stdout",
       "text": [
        "\n",
        "Logistic Regression (L1 penalty, C=0.05) accuracy: 0.211"
       ]
      },
      {
       "output_type": "stream",
       "stream": "stdout",
       "text": [
        "\n",
        "Logistic Regression (L1 penalty, C=11.16) accuracy: 0.200"
       ]
      },
      {
       "output_type": "stream",
       "stream": "stdout",
       "text": [
        "\n",
        "Logistic Regression (L1 penalty, C=22.26) accuracy: 0.190"
       ]
      },
      {
       "output_type": "stream",
       "stream": "stdout",
       "text": [
        "\n",
        "Logistic Regression (L1 penalty, C=33.37) accuracy: 0.190"
       ]
      },
      {
       "output_type": "stream",
       "stream": "stdout",
       "text": [
        "\n",
        "Logistic Regression (L1 penalty, C=44.47) accuracy: 0.190"
       ]
      },
      {
       "output_type": "stream",
       "stream": "stdout",
       "text": [
        "\n",
        "Logistic Regression (L1 penalty, C=55.58) accuracy: 0.190"
       ]
      },
      {
       "output_type": "stream",
       "stream": "stdout",
       "text": [
        "\n",
        "Logistic Regression (L1 penalty, C=66.68) accuracy: 0.194"
       ]
      },
      {
       "output_type": "stream",
       "stream": "stdout",
       "text": [
        "\n",
        "Logistic Regression (L1 penalty, C=77.79) accuracy: 0.194"
       ]
      },
      {
       "output_type": "stream",
       "stream": "stdout",
       "text": [
        "\n",
        "Logistic Regression (L1 penalty, C=88.89) accuracy: 0.190"
       ]
      },
      {
       "output_type": "stream",
       "stream": "stdout",
       "text": [
        "\n",
        "Logistic Regression (L1 penalty, C=100.00) accuracy: 0.195"
       ]
      },
      {
       "output_type": "stream",
       "stream": "stdout",
       "text": [
        "\n"
       ]
      }
     ],
     "prompt_number": 34
    },
    {
     "cell_type": "code",
     "collapsed": false,
     "input": [
      "def baseline_model(X, same_guess=\"Oct\"):\n",
      "    pred = np.array([same_guess] * len(X))\n",
      "    return pred\n",
      "\n",
      "class Baseline(object):\n",
      "    \n",
      "    def __init__(self, guess):\n",
      "        self.guess = guess\n",
      "        \n",
      "    def fit(self, X, Y):\n",
      "        # Do nothing. This classifier\n",
      "        # doesn't really train on data,\n",
      "        # it will only guess the same thing!\n",
      "        pass\n",
      "    \n",
      "    def predict(self, X):\n",
      "        # create an array full of the exact same\n",
      "        # guess and return it!\n",
      "        pred = np.array([self.guess] * len(X))\n",
      "        return pred        \n",
      "    \n",
      "    def score(self, X,Y):\n",
      "        # Calculate the accuracy of your\n",
      "        # stupid predictions against the\n",
      "        # actual values\n",
      "        Y_pred = self.predict(X)\n",
      "        Y_true = Y\n",
      "        return accuracy_score(Y_true, Y_pred)\n",
      "    \n",
      "    def get_params(self, deep=False):\n",
      "        # Scikitlearn models return a dictionary\n",
      "        # of {parameter: value} with this function\n",
      "        # We only have one parameter, out guess.\n",
      "        # You don't even need to worry about the \n",
      "        # \"deep\" kw argument, we're not using it.\n",
      "        return {'guess': self.guess}\n",
      "    \n",
      "# Ok, now that our class has fit, predict, score and get_params\n",
      "# just as cross_val_score expects, we can run it!\n",
      "model = Baseline(guess=\"Oct\")\n",
      "accuracy = np.mean(cross_val_score(model, X,Y, cv=10))\n",
      "print 'Baseline Oct guess accuracy: %f' % accuracy\n",
      "print 'KNN and Logistic Regression do around ~2 percent better than Baseline model'"
     ],
     "language": "python",
     "metadata": {},
     "outputs": [
      {
       "output_type": "stream",
       "stream": "stdout",
       "text": [
        "Baseline Oct guess accuracy: 0.199211\n",
        "KNN and Logistic Regression do around ~2 percent better than Baseline model\n"
       ]
      }
     ],
     "prompt_number": 37
    },
    {
     "cell_type": "code",
     "collapsed": false,
     "input": [
      "model = LogisticRegression(penalty='l2')\n",
      "model.fit(X, Y)\n",
      "\n",
      "model.coef_\n",
      "print \"each array shows the coefficients to estimate each month using the 6 features\""
     ],
     "language": "python",
     "metadata": {},
     "outputs": [
      {
       "metadata": {},
       "output_type": "pyout",
       "prompt_number": 38,
       "text": [
        "array([[ -4.29074011e-13,  -2.37135935e-08,  -6.11754376e-08,\n",
        "         -8.73071072e-12,  -7.36507545e-13,  -8.98504930e-12],\n",
        "       [ -2.06694687e-05,   1.02013071e-09,   6.39852785e-09,\n",
        "         -4.14673546e-04,  -2.60889144e-05,  -4.26701068e-04],\n",
        "       [ -3.79129692e-05,   4.69025960e-09,   2.19871998e-08,\n",
        "         -9.82353421e-04,  -2.87670496e-05,  -8.21754302e-04],\n",
        "       [ -2.33936392e-05,  -4.98591481e-09,   6.26510305e-09,\n",
        "         -5.02283737e-04,  -3.09318115e-05,  -5.34506345e-04],\n",
        "       [ -7.55282326e-13,  -2.98574915e-08,  -9.04290194e-08,\n",
        "         -1.64181604e-11,  -1.26059837e-12,  -1.55418985e-11],\n",
        "       [ -3.03889823e-05,   7.08762539e-09,   1.52948478e-08,\n",
        "         -6.86929101e-04,  -3.26050411e-05,  -6.61425339e-04],\n",
        "       [ -3.49472846e-05,   1.21604071e-08,   1.87354393e-08,\n",
        "         -8.98399686e-04,  -3.83641473e-05,  -7.58978820e-04],\n",
        "       [ -4.79365285e-13,  -4.23693099e-08,  -9.41877079e-08,\n",
        "         -1.36463655e-11,  -4.09162355e-13,  -1.09643228e-11],\n",
        "       [ -3.03044588e-05,  -3.47393015e-09,   1.90054572e-08,\n",
        "         -8.30421984e-04,  -2.84205752e-05,  -6.97756816e-04],\n",
        "       [ -2.78408652e-05,  -7.01542569e-09,   1.21781683e-08,\n",
        "         -7.41693302e-04,  -7.36451431e-06,  -6.45959509e-04],\n",
        "       [ -2.64712765e-13,  -3.08264874e-09,  -4.43142695e-08,\n",
        "         -4.29024916e-12,  -2.49045488e-13,  -5.35342739e-12],\n",
        "       [ -4.74105787e-13,  -3.55859540e-08,  -7.06441462e-08,\n",
        "         -1.05924359e-11,  -5.44012758e-13,  -1.01136081e-11]])"
       ]
      }
     ],
     "prompt_number": 38
    },
    {
     "cell_type": "markdown",
     "metadata": {},
     "source": [
      "Challenge 12\n",
      "\n",
      "Now you are a classification master. The representative votes dataset only had 0s and 1s. Let's just swiftly tackle the breast cancer surgery data we talked about in class.\n",
      "\n",
      "Get it from here10.\n",
      "What is the average and standard deviation of the age of all of the patients? What is the average and standard deviation of the age of those patients that survived 5 or more years after surgery?\n",
      "What is the average and standard deviation of the age of those patients who survived fewer than 5 years after surgery?\n",
      "Plot a histogram of the ages side by side with a histogram of the number of axillary nodes.\n",
      "What is the earliest year of surgery in this dataset?\n",
      "What is the most recent year of surgery?\n",
      "\n",
      "Use logistic regression to predict survival after 5 years. How well does your model do? What are the coefficients of logistic regression? Which features affect the outcome how?\n",
      "\n",
      "Draw the learning curve for logistic regression in this case."
     ]
    },
    {
     "cell_type": "code",
     "collapsed": false,
     "input": [
      "patients = pd.read_csv(\"haberman.data\", header=None)\n",
      "\n",
      "patients.columns=['age','operation_year','nodes','survived']\n",
      "patients=patients.replace(2,0) #0=2 (patient died within 5 years after operation)\n",
      "patients"
     ],
     "language": "python",
     "metadata": {},
     "outputs": [
      {
       "html": [
        "<div style=\"max-height:1000px;max-width:1500px;overflow:auto;\">\n",
        "<table border=\"1\" class=\"dataframe\">\n",
        "  <thead>\n",
        "    <tr style=\"text-align: right;\">\n",
        "      <th></th>\n",
        "      <th>age</th>\n",
        "      <th>operation_year</th>\n",
        "      <th>nodes</th>\n",
        "      <th>survived</th>\n",
        "    </tr>\n",
        "  </thead>\n",
        "  <tbody>\n",
        "    <tr>\n",
        "      <th>0  </th>\n",
        "      <td> 30</td>\n",
        "      <td> 64</td>\n",
        "      <td>  1</td>\n",
        "      <td> 1</td>\n",
        "    </tr>\n",
        "    <tr>\n",
        "      <th>1  </th>\n",
        "      <td> 30</td>\n",
        "      <td> 62</td>\n",
        "      <td>  3</td>\n",
        "      <td> 1</td>\n",
        "    </tr>\n",
        "    <tr>\n",
        "      <th>2  </th>\n",
        "      <td> 30</td>\n",
        "      <td> 65</td>\n",
        "      <td>  0</td>\n",
        "      <td> 1</td>\n",
        "    </tr>\n",
        "    <tr>\n",
        "      <th>3  </th>\n",
        "      <td> 31</td>\n",
        "      <td> 59</td>\n",
        "      <td>  0</td>\n",
        "      <td> 1</td>\n",
        "    </tr>\n",
        "    <tr>\n",
        "      <th>4  </th>\n",
        "      <td> 31</td>\n",
        "      <td> 65</td>\n",
        "      <td>  4</td>\n",
        "      <td> 1</td>\n",
        "    </tr>\n",
        "    <tr>\n",
        "      <th>5  </th>\n",
        "      <td> 33</td>\n",
        "      <td> 58</td>\n",
        "      <td> 10</td>\n",
        "      <td> 1</td>\n",
        "    </tr>\n",
        "    <tr>\n",
        "      <th>6  </th>\n",
        "      <td> 33</td>\n",
        "      <td> 60</td>\n",
        "      <td>  0</td>\n",
        "      <td> 1</td>\n",
        "    </tr>\n",
        "    <tr>\n",
        "      <th>7  </th>\n",
        "      <td> 34</td>\n",
        "      <td> 59</td>\n",
        "      <td>  0</td>\n",
        "      <td> 0</td>\n",
        "    </tr>\n",
        "    <tr>\n",
        "      <th>8  </th>\n",
        "      <td> 34</td>\n",
        "      <td> 66</td>\n",
        "      <td>  9</td>\n",
        "      <td> 0</td>\n",
        "    </tr>\n",
        "    <tr>\n",
        "      <th>9  </th>\n",
        "      <td> 34</td>\n",
        "      <td> 58</td>\n",
        "      <td> 30</td>\n",
        "      <td> 1</td>\n",
        "    </tr>\n",
        "    <tr>\n",
        "      <th>10 </th>\n",
        "      <td> 34</td>\n",
        "      <td> 60</td>\n",
        "      <td>  1</td>\n",
        "      <td> 1</td>\n",
        "    </tr>\n",
        "    <tr>\n",
        "      <th>11 </th>\n",
        "      <td> 34</td>\n",
        "      <td> 61</td>\n",
        "      <td> 10</td>\n",
        "      <td> 1</td>\n",
        "    </tr>\n",
        "    <tr>\n",
        "      <th>12 </th>\n",
        "      <td> 34</td>\n",
        "      <td> 67</td>\n",
        "      <td>  7</td>\n",
        "      <td> 1</td>\n",
        "    </tr>\n",
        "    <tr>\n",
        "      <th>13 </th>\n",
        "      <td> 34</td>\n",
        "      <td> 60</td>\n",
        "      <td>  0</td>\n",
        "      <td> 1</td>\n",
        "    </tr>\n",
        "    <tr>\n",
        "      <th>14 </th>\n",
        "      <td> 35</td>\n",
        "      <td> 64</td>\n",
        "      <td> 13</td>\n",
        "      <td> 1</td>\n",
        "    </tr>\n",
        "    <tr>\n",
        "      <th>15 </th>\n",
        "      <td> 35</td>\n",
        "      <td> 63</td>\n",
        "      <td>  0</td>\n",
        "      <td> 1</td>\n",
        "    </tr>\n",
        "    <tr>\n",
        "      <th>16 </th>\n",
        "      <td> 36</td>\n",
        "      <td> 60</td>\n",
        "      <td>  1</td>\n",
        "      <td> 1</td>\n",
        "    </tr>\n",
        "    <tr>\n",
        "      <th>17 </th>\n",
        "      <td> 36</td>\n",
        "      <td> 69</td>\n",
        "      <td>  0</td>\n",
        "      <td> 1</td>\n",
        "    </tr>\n",
        "    <tr>\n",
        "      <th>18 </th>\n",
        "      <td> 37</td>\n",
        "      <td> 60</td>\n",
        "      <td>  0</td>\n",
        "      <td> 1</td>\n",
        "    </tr>\n",
        "    <tr>\n",
        "      <th>19 </th>\n",
        "      <td> 37</td>\n",
        "      <td> 63</td>\n",
        "      <td>  0</td>\n",
        "      <td> 1</td>\n",
        "    </tr>\n",
        "    <tr>\n",
        "      <th>20 </th>\n",
        "      <td> 37</td>\n",
        "      <td> 58</td>\n",
        "      <td>  0</td>\n",
        "      <td> 1</td>\n",
        "    </tr>\n",
        "    <tr>\n",
        "      <th>21 </th>\n",
        "      <td> 37</td>\n",
        "      <td> 59</td>\n",
        "      <td>  6</td>\n",
        "      <td> 1</td>\n",
        "    </tr>\n",
        "    <tr>\n",
        "      <th>22 </th>\n",
        "      <td> 37</td>\n",
        "      <td> 60</td>\n",
        "      <td> 15</td>\n",
        "      <td> 1</td>\n",
        "    </tr>\n",
        "    <tr>\n",
        "      <th>23 </th>\n",
        "      <td> 37</td>\n",
        "      <td> 63</td>\n",
        "      <td>  0</td>\n",
        "      <td> 1</td>\n",
        "    </tr>\n",
        "    <tr>\n",
        "      <th>24 </th>\n",
        "      <td> 38</td>\n",
        "      <td> 69</td>\n",
        "      <td> 21</td>\n",
        "      <td> 0</td>\n",
        "    </tr>\n",
        "    <tr>\n",
        "      <th>25 </th>\n",
        "      <td> 38</td>\n",
        "      <td> 59</td>\n",
        "      <td>  0</td>\n",
        "      <td> 1</td>\n",
        "    </tr>\n",
        "    <tr>\n",
        "      <th>26 </th>\n",
        "      <td> 38</td>\n",
        "      <td> 60</td>\n",
        "      <td>  0</td>\n",
        "      <td> 1</td>\n",
        "    </tr>\n",
        "    <tr>\n",
        "      <th>27 </th>\n",
        "      <td> 38</td>\n",
        "      <td> 60</td>\n",
        "      <td>  0</td>\n",
        "      <td> 1</td>\n",
        "    </tr>\n",
        "    <tr>\n",
        "      <th>28 </th>\n",
        "      <td> 38</td>\n",
        "      <td> 62</td>\n",
        "      <td>  3</td>\n",
        "      <td> 1</td>\n",
        "    </tr>\n",
        "    <tr>\n",
        "      <th>29 </th>\n",
        "      <td> 38</td>\n",
        "      <td> 64</td>\n",
        "      <td>  1</td>\n",
        "      <td> 1</td>\n",
        "    </tr>\n",
        "    <tr>\n",
        "      <th>...</th>\n",
        "      <td>...</td>\n",
        "      <td>...</td>\n",
        "      <td>...</td>\n",
        "      <td>...</td>\n",
        "    </tr>\n",
        "    <tr>\n",
        "      <th>276</th>\n",
        "      <td> 67</td>\n",
        "      <td> 66</td>\n",
        "      <td>  0</td>\n",
        "      <td> 1</td>\n",
        "    </tr>\n",
        "    <tr>\n",
        "      <th>277</th>\n",
        "      <td> 67</td>\n",
        "      <td> 61</td>\n",
        "      <td>  0</td>\n",
        "      <td> 1</td>\n",
        "    </tr>\n",
        "    <tr>\n",
        "      <th>278</th>\n",
        "      <td> 67</td>\n",
        "      <td> 65</td>\n",
        "      <td>  0</td>\n",
        "      <td> 1</td>\n",
        "    </tr>\n",
        "    <tr>\n",
        "      <th>279</th>\n",
        "      <td> 68</td>\n",
        "      <td> 67</td>\n",
        "      <td>  0</td>\n",
        "      <td> 1</td>\n",
        "    </tr>\n",
        "    <tr>\n",
        "      <th>280</th>\n",
        "      <td> 68</td>\n",
        "      <td> 68</td>\n",
        "      <td>  0</td>\n",
        "      <td> 1</td>\n",
        "    </tr>\n",
        "    <tr>\n",
        "      <th>281</th>\n",
        "      <td> 69</td>\n",
        "      <td> 67</td>\n",
        "      <td>  8</td>\n",
        "      <td> 0</td>\n",
        "    </tr>\n",
        "    <tr>\n",
        "      <th>282</th>\n",
        "      <td> 69</td>\n",
        "      <td> 60</td>\n",
        "      <td>  0</td>\n",
        "      <td> 1</td>\n",
        "    </tr>\n",
        "    <tr>\n",
        "      <th>283</th>\n",
        "      <td> 69</td>\n",
        "      <td> 65</td>\n",
        "      <td>  0</td>\n",
        "      <td> 1</td>\n",
        "    </tr>\n",
        "    <tr>\n",
        "      <th>284</th>\n",
        "      <td> 69</td>\n",
        "      <td> 66</td>\n",
        "      <td>  0</td>\n",
        "      <td> 1</td>\n",
        "    </tr>\n",
        "    <tr>\n",
        "      <th>285</th>\n",
        "      <td> 70</td>\n",
        "      <td> 58</td>\n",
        "      <td>  0</td>\n",
        "      <td> 0</td>\n",
        "    </tr>\n",
        "    <tr>\n",
        "      <th>286</th>\n",
        "      <td> 70</td>\n",
        "      <td> 58</td>\n",
        "      <td>  4</td>\n",
        "      <td> 0</td>\n",
        "    </tr>\n",
        "    <tr>\n",
        "      <th>287</th>\n",
        "      <td> 70</td>\n",
        "      <td> 66</td>\n",
        "      <td> 14</td>\n",
        "      <td> 1</td>\n",
        "    </tr>\n",
        "    <tr>\n",
        "      <th>288</th>\n",
        "      <td> 70</td>\n",
        "      <td> 67</td>\n",
        "      <td>  0</td>\n",
        "      <td> 1</td>\n",
        "    </tr>\n",
        "    <tr>\n",
        "      <th>289</th>\n",
        "      <td> 70</td>\n",
        "      <td> 68</td>\n",
        "      <td>  0</td>\n",
        "      <td> 1</td>\n",
        "    </tr>\n",
        "    <tr>\n",
        "      <th>290</th>\n",
        "      <td> 70</td>\n",
        "      <td> 59</td>\n",
        "      <td>  8</td>\n",
        "      <td> 1</td>\n",
        "    </tr>\n",
        "    <tr>\n",
        "      <th>291</th>\n",
        "      <td> 70</td>\n",
        "      <td> 63</td>\n",
        "      <td>  0</td>\n",
        "      <td> 1</td>\n",
        "    </tr>\n",
        "    <tr>\n",
        "      <th>292</th>\n",
        "      <td> 71</td>\n",
        "      <td> 68</td>\n",
        "      <td>  0</td>\n",
        "      <td> 1</td>\n",
        "    </tr>\n",
        "    <tr>\n",
        "      <th>293</th>\n",
        "      <td> 72</td>\n",
        "      <td> 63</td>\n",
        "      <td>  0</td>\n",
        "      <td> 0</td>\n",
        "    </tr>\n",
        "    <tr>\n",
        "      <th>294</th>\n",
        "      <td> 72</td>\n",
        "      <td> 58</td>\n",
        "      <td>  0</td>\n",
        "      <td> 1</td>\n",
        "    </tr>\n",
        "    <tr>\n",
        "      <th>295</th>\n",
        "      <td> 72</td>\n",
        "      <td> 64</td>\n",
        "      <td>  0</td>\n",
        "      <td> 1</td>\n",
        "    </tr>\n",
        "    <tr>\n",
        "      <th>296</th>\n",
        "      <td> 72</td>\n",
        "      <td> 67</td>\n",
        "      <td>  3</td>\n",
        "      <td> 1</td>\n",
        "    </tr>\n",
        "    <tr>\n",
        "      <th>297</th>\n",
        "      <td> 73</td>\n",
        "      <td> 62</td>\n",
        "      <td>  0</td>\n",
        "      <td> 1</td>\n",
        "    </tr>\n",
        "    <tr>\n",
        "      <th>298</th>\n",
        "      <td> 73</td>\n",
        "      <td> 68</td>\n",
        "      <td>  0</td>\n",
        "      <td> 1</td>\n",
        "    </tr>\n",
        "    <tr>\n",
        "      <th>299</th>\n",
        "      <td> 74</td>\n",
        "      <td> 65</td>\n",
        "      <td>  3</td>\n",
        "      <td> 0</td>\n",
        "    </tr>\n",
        "    <tr>\n",
        "      <th>300</th>\n",
        "      <td> 74</td>\n",
        "      <td> 63</td>\n",
        "      <td>  0</td>\n",
        "      <td> 1</td>\n",
        "    </tr>\n",
        "    <tr>\n",
        "      <th>301</th>\n",
        "      <td> 75</td>\n",
        "      <td> 62</td>\n",
        "      <td>  1</td>\n",
        "      <td> 1</td>\n",
        "    </tr>\n",
        "    <tr>\n",
        "      <th>302</th>\n",
        "      <td> 76</td>\n",
        "      <td> 67</td>\n",
        "      <td>  0</td>\n",
        "      <td> 1</td>\n",
        "    </tr>\n",
        "    <tr>\n",
        "      <th>303</th>\n",
        "      <td> 77</td>\n",
        "      <td> 65</td>\n",
        "      <td>  3</td>\n",
        "      <td> 1</td>\n",
        "    </tr>\n",
        "    <tr>\n",
        "      <th>304</th>\n",
        "      <td> 78</td>\n",
        "      <td> 65</td>\n",
        "      <td>  1</td>\n",
        "      <td> 0</td>\n",
        "    </tr>\n",
        "    <tr>\n",
        "      <th>305</th>\n",
        "      <td> 83</td>\n",
        "      <td> 58</td>\n",
        "      <td>  0</td>\n",
        "      <td> 0</td>\n",
        "    </tr>\n",
        "  </tbody>\n",
        "</table>\n",
        "<p>306 rows \u00d7 4 columns</p>\n",
        "</div>"
       ],
       "metadata": {},
       "output_type": "pyout",
       "prompt_number": 42,
       "text": [
        "     age  operation_year  nodes  survived\n",
        "0     30              64      1         1\n",
        "1     30              62      3         1\n",
        "2     30              65      0         1\n",
        "3     31              59      0         1\n",
        "4     31              65      4         1\n",
        "5     33              58     10         1\n",
        "6     33              60      0         1\n",
        "7     34              59      0         0\n",
        "8     34              66      9         0\n",
        "9     34              58     30         1\n",
        "10    34              60      1         1\n",
        "11    34              61     10         1\n",
        "12    34              67      7         1\n",
        "13    34              60      0         1\n",
        "14    35              64     13         1\n",
        "15    35              63      0         1\n",
        "16    36              60      1         1\n",
        "17    36              69      0         1\n",
        "18    37              60      0         1\n",
        "19    37              63      0         1\n",
        "20    37              58      0         1\n",
        "21    37              59      6         1\n",
        "22    37              60     15         1\n",
        "23    37              63      0         1\n",
        "24    38              69     21         0\n",
        "25    38              59      0         1\n",
        "26    38              60      0         1\n",
        "27    38              60      0         1\n",
        "28    38              62      3         1\n",
        "29    38              64      1         1\n",
        "..   ...             ...    ...       ...\n",
        "276   67              66      0         1\n",
        "277   67              61      0         1\n",
        "278   67              65      0         1\n",
        "279   68              67      0         1\n",
        "280   68              68      0         1\n",
        "281   69              67      8         0\n",
        "282   69              60      0         1\n",
        "283   69              65      0         1\n",
        "284   69              66      0         1\n",
        "285   70              58      0         0\n",
        "286   70              58      4         0\n",
        "287   70              66     14         1\n",
        "288   70              67      0         1\n",
        "289   70              68      0         1\n",
        "290   70              59      8         1\n",
        "291   70              63      0         1\n",
        "292   71              68      0         1\n",
        "293   72              63      0         0\n",
        "294   72              58      0         1\n",
        "295   72              64      0         1\n",
        "296   72              67      3         1\n",
        "297   73              62      0         1\n",
        "298   73              68      0         1\n",
        "299   74              65      3         0\n",
        "300   74              63      0         1\n",
        "301   75              62      1         1\n",
        "302   76              67      0         1\n",
        "303   77              65      3         1\n",
        "304   78              65      1         0\n",
        "305   83              58      0         0\n",
        "\n",
        "[306 rows x 4 columns]"
       ]
      }
     ],
     "prompt_number": 42
    },
    {
     "cell_type": "code",
     "collapsed": false,
     "input": [
      "#average and standard deviation of the age of all of the patients?\n",
      "patients['age'].describe()"
     ],
     "language": "python",
     "metadata": {},
     "outputs": [
      {
       "metadata": {},
       "output_type": "pyout",
       "prompt_number": 43,
       "text": [
        "count    306.000000\n",
        "mean      52.457516\n",
        "std       10.803452\n",
        "min       30.000000\n",
        "25%       44.000000\n",
        "50%       52.000000\n",
        "75%       60.750000\n",
        "max       83.000000\n",
        "dtype: float64"
       ]
      }
     ],
     "prompt_number": 43
    },
    {
     "cell_type": "code",
     "collapsed": false,
     "input": [
      "#average and std of the age of those patients that survived 5 or more years after surgery?\n",
      "patients['age'][patients['survived']==1].describe()"
     ],
     "language": "python",
     "metadata": {},
     "outputs": [
      {
       "metadata": {},
       "output_type": "pyout",
       "prompt_number": 44,
       "text": [
        "count    225.000000\n",
        "mean      52.017778\n",
        "std       11.012154\n",
        "min       30.000000\n",
        "25%       43.000000\n",
        "50%       52.000000\n",
        "75%       60.000000\n",
        "max       77.000000\n",
        "dtype: float64"
       ]
      }
     ],
     "prompt_number": 44
    },
    {
     "cell_type": "code",
     "collapsed": false,
     "input": [
      "#average and std of the age of those patients who survived fewer than 5 years after surgery?\n",
      "patients['age'][patients['survived']==0].describe()"
     ],
     "language": "python",
     "metadata": {},
     "outputs": [
      {
       "metadata": {},
       "output_type": "pyout",
       "prompt_number": 45,
       "text": [
        "count    81.000000\n",
        "mean     53.679012\n",
        "std      10.167137\n",
        "min      34.000000\n",
        "25%      46.000000\n",
        "50%      53.000000\n",
        "75%      61.000000\n",
        "max      83.000000\n",
        "dtype: float64"
       ]
      }
     ],
     "prompt_number": 45
    },
    {
     "cell_type": "code",
     "collapsed": false,
     "input": [
      "#histogram of the ages side by side with a histogram of the number of axillary nodes\n",
      "pl.figure(figsize=(15,5))\n",
      "pl.subplot(121)\n",
      "patients['age'].hist(bins=13)\n",
      "pl.title('Histogram: Ages')\n",
      "pl.subplot(122)\n",
      "patients['nodes'].hist(bins=13)\n",
      "pl.title('Histogram: Number of positive nodes')"
     ],
     "language": "python",
     "metadata": {},
     "outputs": [
      {
       "metadata": {},
       "output_type": "pyout",
       "prompt_number": 48,
       "text": [
        "<matplotlib.text.Text at 0x10b1837d0>"
       ]
      },
      {
       "metadata": {},
       "output_type": "display_data",
       "png": "[encoded data removed]",
       "text": [
        "<matplotlib.figure.Figure at 0x10a7d2650>"
       ]
      }
     ],
     "prompt_number": 48
    },
    {
     "cell_type": "code",
     "collapsed": false,
     "input": [
      "#earliest year of surgery in this dataset?\n",
      "patients['operation_year'].min()"
     ],
     "language": "python",
     "metadata": {},
     "outputs": [
      {
       "metadata": {},
       "output_type": "pyout",
       "prompt_number": 49,
       "text": [
        "58"
       ]
      }
     ],
     "prompt_number": 49
    },
    {
     "cell_type": "code",
     "collapsed": false,
     "input": [
      "#the most recent year of surgery?\n",
      "patients['operation_year'].max()"
     ],
     "language": "python",
     "metadata": {},
     "outputs": [
      {
       "metadata": {},
       "output_type": "pyout",
       "prompt_number": 50,
       "text": [
        "69"
       ]
      }
     ],
     "prompt_number": 50
    },
    {
     "cell_type": "code",
     "collapsed": false,
     "input": [
      "#Use logistic regression to predict survival after 5 years. How well does your model do?\n",
      "X = patients[['age','operation_year','nodes']]\n",
      "Y = patients['survived']\n",
      "model = LogisticRegression()\n",
      "accuracy = np.mean(cross_val_score(model, X,Y, cv=10))\n",
      "print 'Logistic Regression accuracy: ', accuracy"
     ],
     "language": "python",
     "metadata": {},
     "outputs": [
      {
       "output_type": "stream",
       "stream": "stdout",
       "text": [
        "Logistic Regression accuracy:  0.751659946237\n"
       ]
      }
     ],
     "prompt_number": 52
    },
    {
     "cell_type": "code",
     "collapsed": false,
     "input": [
      "#What are the coefficients of logistic regression? Which features affect the outcome how?\n",
      "model.fit(X,Y).coef_\n",
      "print \"the older you are during the operation the worse your outcome\"\n",
      "print \"the survival rate is increasing across time, perhaps due to breakthroughs in breast cancer knowledge and operations\"\n",
      "print \"the more positive nodes, the worse your outcome\""
     ],
     "language": "python",
     "metadata": {},
     "outputs": [
      {
       "output_type": "stream",
       "stream": "stdout",
       "text": [
        "the older you are during the operation the worse your outcome\n",
        "the survival rate is increasing across time, perhaps due to breakthroughs in breast cancer knowledge and operations\n",
        "the more positive nodes, the worse your outcome\n"
       ]
      }
     ],
     "prompt_number": 55
    },
    {
     "cell_type": "code",
     "collapsed": false,
     "input": [
      "#Draw the learning curve for logistic regression in this case.\n",
      "m,train_err,ts_err = learning_curve(LogisticRegression(),X,Y,\n",
      "                                    train_sizes=np.linspace(0.4, 1.0, 50))\n",
      "\n",
      "train_cv_err = np.mean(train_err,axis=1)\n",
      "test_cv_err = np.mean(ts_err,axis=1)\n",
      "\n",
      "tr, =pl.plot(m,train_cv_err)\n",
      "ts, = pl.plot(m,test_cv_err)\n",
      "pl.legend((tr,ts),('training','test'),loc='best')\n",
      "pl.xlabel('folds(m)')\n",
      "pl.ylabel('accuracy')\n",
      "pl.title('Learning Curve for Survival 5 yr After Breast Cancer Operation')"
     ],
     "language": "python",
     "metadata": {},
     "outputs": [
      {
       "metadata": {},
       "output_type": "pyout",
       "prompt_number": 58,
       "text": [
        "<matplotlib.text.Text at 0x10b5a7450>"
       ]
      },
      {
       "metadata": {},
       "output_type": "display_data",
       "png": "[encoded data removed]",
       "text": [
        "<matplotlib.figure.Figure at 0x10957af10>"
       ]
      }
     ],
     "prompt_number": 58
    }
   ],
   "metadata": {}
  }
 ]
}