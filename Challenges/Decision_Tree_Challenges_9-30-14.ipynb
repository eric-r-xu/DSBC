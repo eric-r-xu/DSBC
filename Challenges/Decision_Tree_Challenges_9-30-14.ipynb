{
 "metadata": {
  "name": "",
  "signature": "sha256:1d2dc9d1e9e08b0be75c99a632a21d49dc1a51130e6a26064c88170914f825b4"
 },
 "nbformat": 3,
 "nbformat_minor": 0,
 "worksheets": [
  {
   "cells": [
    {
     "cell_type": "markdown",
     "metadata": {},
     "source": [
      "Challenge 1\n",
      "\n",
      "For the house representatives data set, fit and plot a decision tree classifier"
     ]
    },
    {
     "cell_type": "code",
     "collapsed": false,
     "input": [
      "import pandas as pd\n",
      "df=pd.read_csv('house.txt')\n",
      "\n",
      "df.columns = pd.Index([u'A1', u'A2', u'A3', u'A4', u'A5', u'A6', u'A7', u'A8', u'A9', u'A10', u'A11', u'A12', u'A13', u'A14', u'A15', u'A16', u'A17'])\n",
      "df=df.replace('y', 1)\n",
      "df=df.replace('n', 0)\n",
      "import numpy as np\n",
      "df=df.replace('?',np.nan)\n",
      "df=df.replace('democrat',0)\n",
      "df=df.replace('republican',1)\n",
      "df.mean()\n",
      "df=df.fillna(df.mean())\n",
      "\n",
      "#preparing training and test sets\n",
      "dftrain, dftest= train_test_split(df, test_size=0.25)\n",
      "dfx_train=dftrain[:,1:18]\n",
      "dfy_train=dftrain[:,0]\n",
      "dfx_test=dftest[:,1:18]\n",
      "dfy_test=dftest[:,0]\n",
      "dfx_all=df.values[:,1:18]\n",
      "dfy_all=df.values[:,0]\n",
      "\n",
      "from sklearn.naive_bayes import GaussianNB\n",
      "from sklearn.svm import SVC\n",
      "from sklearn.tree import DecisionTreeClassifier\n",
      "from sklearn.ensemble import RandomForestClassifier\n",
      "from sklearn.learning_curve import learning_curve\n",
      "from sklearn.linear_model import LogisticRegression \n",
      "from sklearn.neighbors import KNeighborsClassifier\n",
      "from sklearn.metrics import accuracy_score\n",
      "from sklearn.metrics import precision_score\n",
      "from sklearn.metrics import recall_score\n",
      "from sklearn.metrics import f1_score\n",
      "from sklearn.cross_validation import train_test_split\n",
      "\n",
      "from sklearn import tree\n",
      "X =dfx_all\n",
      "Y =dfy_all\n",
      "clf = tree.DecisionTreeClassifier()\n",
      "clf = clf.fit(X, Y)\n",
      "\n",
      "from sklearn.externals.six import StringIO\n",
      "with open(\"houseRepresentative.dot\", 'w') as f:f = tree.export_graphviz(clf, out_file=f)\n",
      "    \n",
      "import os\n",
      "os.unlink('houseRepresentative.dot')    \n",
      "\n",
      "from sklearn.externals.six import StringIO  \n",
      "import pydot \n",
      "dot_data = StringIO() \n",
      "tree.export_graphviz(clf, out_file=dot_data) \n",
      "graph = pydot.graph_from_dot_data(dot_data.getvalue()) \n",
      "graph.write_pdf(\"houseRepresentative.pdf\") \n",
      "print StringIO"
     ],
     "language": "python",
     "metadata": {},
     "outputs": [
      {
       "output_type": "stream",
       "stream": "stdout",
       "text": [
        "StringIO.StringIO\n"
       ]
      }
     ],
     "prompt_number": 11
    },
    {
     "cell_type": "markdown",
     "metadata": {},
     "source": [
      "Challenge 2\n",
      "\n",
      "Fit and draw a decision tree classifier for your movie dataset"
     ]
    },
    {
     "cell_type": "code",
     "collapsed": false,
     "input": [
      "%matplotlib inline\n",
      "from datetime import datetime\n",
      "import pylab as pl\n",
      "import pickle\n",
      "movie_data=[]\n",
      "\n",
      "movie_data = pd.read_csv('mv_df_budget.csv')\n",
      "\n",
      "movie_data.head()\n",
      "movie_data.groupby('month')['title'].count().plot(kind='bar')\n",
      "pl.ylabel('number of movies')\n",
      "\n",
      "\n",
      "X = movie_data[['runtime','profit','budget','theater_number','months_release','year']]\n",
      "Y = movie_data['month']\n",
      "clf = tree.DecisionTreeClassifier()\n",
      "clf = clf.fit(X, Y)\n",
      "\n",
      "from sklearn.externals.six import StringIO\n",
      "with open(\"movies.dot\", 'w') as f:f = tree.export_graphviz(clf, out_file=f)\n",
      "    \n",
      "import os\n",
      "os.unlink('movies.dot')    \n",
      "\n",
      "from sklearn.externals.six import StringIO  \n",
      "import pydot \n",
      "dot_data = StringIO() \n",
      "tree.export_graphviz(clf, out_file=dot_data) \n",
      "graph = pydot.graph_from_dot_data(dot_data.getvalue()) \n",
      "graph.write_pdf(\"movies.pdf\") \n",
      "print StringIO"
     ],
     "language": "python",
     "metadata": {},
     "outputs": [
      {
       "output_type": "stream",
       "stream": "stdout",
       "text": [
        "StringIO.StringIO\n"
       ]
      },
      {
       "metadata": {},
       "output_type": "display_data",
       "png": "[encoded data removed]",
       "text": [
        "<matplotlib.figure.Figure at 0x114244850>"
       ]
      }
     ],
     "prompt_number": 14
    },
    {
     "cell_type": "markdown",
     "metadata": {},
     "source": [
      "Challenge 3 (Optional but recommended)\n",
      "\n",
      "Tackle the Titanic Survivors kaggle competition2 with decision trees. Look at your splits, how does your tree decide?"
     ]
    },
    {
     "cell_type": "raw",
     "metadata": {},
     "source": [
      "VARIABLE DESCRIPTIONS:\n",
      "survival        Survival\n",
      "                (0 = No; 1 = Yes)\n",
      "pclass          Passenger Class\n",
      "                (1 = 1st; 2 = 2nd; 3 = 3rd)\n",
      "name            Name\n",
      "sex             Sex\n",
      "age             Age\n",
      "sibsp           Number of Siblings/Spouses Aboard\n",
      "parch           Number of Parents/Children Aboard\n",
      "ticket          Ticket Number\n",
      "fare            Passenger Fare\n",
      "cabin           Cabin\n",
      "embarked        Port of Embarkation\n",
      "                (C = Cherbourg; Q = Queenstown; S = Southampton)\n",
      "\n",
      "SPECIAL NOTES:\n",
      "Pclass is a proxy for socio-economic status (SES)\n",
      " 1st ~ Upper; 2nd ~ Middle; 3rd ~ Lower\n",
      "\n",
      "Age is in Years; Fractional if Age less than One (1)\n",
      " If the Age is Estimated, it is in the form xx.5\n",
      "\n",
      "With respect to the family relation variables (i.e. sibsp and parch)\n",
      "some relations were ignored.  The following are the definitions used\n",
      "for sibsp and parch.\n",
      "\n",
      "Sibling:  Brother, Sister, Stepbrother, or Stepsister of Passenger Aboard Titanic\n",
      "Spouse:   Husband or Wife of Passenger Aboard Titanic (Mistresses and Fiances Ignored)\n",
      "Parent:   Mother or Father of Passenger Aboard Titanic\n",
      "Child:    Son, Daughter, Stepson, or Stepdaughter of Passenger Aboard Titanic\n",
      "\n",
      "Other family relatives excluded from this study include cousins,\n",
      "nephews/nieces, aunts/uncles, and in-laws.  Some children travelled\n",
      "only with a nanny, therefore parch=0 for them.  As well, some\n",
      "travelled with very close friends or neighbors in a village, however,\n",
      "the definitions do not support such relations."
     ]
    },
    {
     "cell_type": "code",
     "collapsed": false,
     "input": [
      "from sklearn import tree\n",
      "import pandas as pd\n",
      "train_data = pd.read_csv('trainX.csv')\n",
      "test_data = pd.read_csv('testX.csv')\n"
     ],
     "language": "python",
     "metadata": {},
     "outputs": [],
     "prompt_number": 14
    },
    {
     "cell_type": "code",
     "collapsed": false,
     "input": [
      "X = train_data[['Pclass','Age','Surname','Sex','SibSp','Parch','Fare']]\n",
      "import matplotlib.pyplot as pl\n",
      "from pandas.tools.plotting import scatter_matrix\n",
      "#scatter_matrix\n",
      "df = train_data[['Pclass', 'Age','Fare']]\n",
      "df.head()\n",
      "scatter_matrix(df, alpha=0.2, figsize=(6, 6), diagonal='kde')\n",
      "pl.show()\n",
      "from pync import Notifier\n",
      "Notifier.notify('Run Complete')"
     ],
     "language": "python",
     "metadata": {},
     "outputs": []
    },
    {
     "cell_type": "code",
     "collapsed": false,
     "input": [
      "Y = train_data['Survived']\n",
      "clf = tree.DecisionTreeClassifier()\n",
      "clf = clf.fit(X, Y)\n",
      "\n",
      "from sklearn.externals.six import StringIO\n",
      "with open(\"Titanic.dot\", 'w') as f:f = tree.export_graphviz(clf, out_file=f)\n",
      "    \n",
      "import os\n",
      "os.unlink('Titanic.dot')    \n",
      "\n",
      "from sklearn.externals.six import StringIO  \n",
      "import pydot \n",
      "dot_data = StringIO() \n",
      "tree.export_graphviz(clf, out_file=dot_data) \n",
      "graph = pydot.graph_from_dot_data(dot_data.getvalue()) \n",
      "graph.write_pdf(\"Titanic.pdf\") \n",
      "print StringIO"
     ],
     "language": "python",
     "metadata": {},
     "outputs": []
    },
    {
     "cell_type": "markdown",
     "metadata": {},
     "source": [
      "Looks like the tree decides by gender first, then either age or passenger class"
     ]
    },
    {
     "cell_type": "code",
     "collapsed": false,
     "input": [
      "#predicting survival in the test set for Kaggle submission\n",
      "X = test_data[['Pclass','Age','Surname','Sex','SibSp','Parch','Fare']]\n",
      "\n",
      "y_pred = clf.predict(X)\n",
      "print y_pred"
     ],
     "language": "python",
     "metadata": {},
     "outputs": [
      {
       "output_type": "stream",
       "stream": "stdout",
       "text": [
        "[1 1 0 0 0 1 0 0 0 1 0 0 0 0 0 0 0 1 0 0 0 0 0 0 0 0 0 1 0 0 1 1 1 0 1 1 0\n",
        " 1 1 0 0 1 0 1 0 1 1 0 1 1 1 0 0 1 0 0 0 0 0 1 0 1 0 0 1 0 1 1 1 1 1 1 0 0\n",
        " 1 0 1 1 0 0 0 1 1 0 0 1 0 1 1 1 1 0 0 0 0 1 1 0 0 1 1 0 0 0 0 1 0 0 0 0 1\n",
        " 1 1 0 0 0 0 0 0 0 0 1 0 1 0 0 1 0 0 0 1 0 1 1 0 0 1 0 0 0 0 1 1 0 0 0 0 0\n",
        " 1 0 0 0 0 1 0 1 1 1 0 0 0 0 0 0 1 1 0 0 0 0 1 1 1 0 1 0 1 0 0 1 0 0 1 0 1\n",
        " 0 1 1 0 0 0 0 1 0 0 0 0 0 1 0 1 1 0 0 1 0 0 0 0 0 0 0 0 1 0 1 0 0 1 1 0 0\n",
        " 1 0 0 0 1 0 0 1 1 0 1 0 1 0 0 0 0 0 0 0 0 0 0 1 0 0 0 1 0 0 1 0 0 0 1 1 0\n",
        " 0 0 0 1 0 0 1 0 0 0 0 0 1 1 1 0 0 1 0 1 0 0 0 0 0 1 0 1 1 1 0 1 1 1 0 0 0\n",
        " 0 1 0 0 1 0 0 0 0 0 0 1 0 0 0 0 0 1 1 0 0 0 1 1 0 0 0 0 1 0 1 1 0 0 1 0 1\n",
        " 0 0 0 0 0 0 1 0 0 0 0 1 0 1 0 0 1 1 0 1 1 0 1 0 1 0 1 0 0 1 1 0 0 0 1 1 0\n",
        " 0 0 0 0 0 0 0 0 0 0 0 0 0 0 0 0 0 0 1 0 0 0 1 0 0 1 0 1 1 0 1 0 0 1 1 0 1\n",
        " 0 0 1 0 0 1 1 0 1 0 1]\n"
       ]
      }
     ],
     "prompt_number": 12
    },
    {
     "cell_type": "code",
     "collapsed": false,
     "input": [
      "import csv\n",
      "with open('y_pred.csv', 'w') as csvfile:\n",
      "    spamwriter = csv.writer(csvfile)\n",
      "    spamwriter.writerow(y_pred)"
     ],
     "language": "python",
     "metadata": {},
     "outputs": [],
     "prompt_number": 13
    }
   ],
   "metadata": {}
  }
 ]
}