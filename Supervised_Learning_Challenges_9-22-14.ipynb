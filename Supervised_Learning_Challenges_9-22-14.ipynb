{
 "metadata": {
  "name": "",
  "signature": "sha256:1328c2aede2d20e2878ea4c48d06580df7f2207cfda51247ff4e50c7a4324d5d"
 },
 "nbformat": 3,
 "nbformat_minor": 0,
 "worksheets": [
  {
   "cells": [
    {
     "cell_type": "markdown",
     "metadata": {},
     "source": [
      "Challenges\n",
      "\n",
      "Download the congressional votes data from here13.\n",
      "These are votes of U.S. House of Representatives Congressmen on 16 key issues in 1984.\n",
      "Read the description of the fields and download the data (house-votes-84.data)\n",
      "We will try to see if we can predict the house members' party based on their votes.\n",
      "We will also use some of the general machine learning tools we learned (a bit more efficiently this time)\n",
      "\n",
      "\n",
      "Challenge 1\n",
      "\n",
      "Load the data into a pandas dataframe. Replace 'y's with 1s, 'n's with 0s.\n",
      "Now, almost every representative has a ?. This represents a no vote (they were absent or some other similar reason). If we dropped all the rows that had a ?, we would throw out most of our data. Instead, we will replace ? with the best guess in the Bayesian sense: in the absence of any other information, we will say that the probability of the representative saying YES is the ratio of others that said YES over the whole votes.\n",
      "So, convert each ? to this probability (when yes=1 and no=0, this is the mean of the column)\n",
      "\n",
      "\n",
      "Challenge 2\n",
      "\n",
      "Split the data into a test and training set. But this time, use this function: from sklearn.cross_validation import train_test_split\n",
      "\n",
      "\n",
      "Challenge 3\n",
      "\n",
      "Using scikit.learn's KNN algorithm, train a model that predicts the party (republican/democrat) from sklearn.neighbors import KNeighborsClassifier\n",
      "\n",
      "Try it with a lot of different k values (number of neighbors), from 1 to 20, and on the test set calculate the accuracy (number of correct predictions / number of all predictions) for each k\n",
      "\n",
      "You can use this to calculate accuracy: from sklearn.metrics import accuracy_score\n",
      "\n",
      "Which k value gives the highest accuracy?"
     ]
    },
    {
     "cell_type": "code",
     "collapsed": false,
     "input": [
      "import pandas as pd\n",
      "df=pd.read_csv('house.txt')\n",
      "df.columns = pd.Index([u'A1', u'A2', u'A3', u'A4', u'A5', u'A6', u'A7', u'A8', u'A9', u'A10', u'A11', u'A12', u'A13', u'A14', u'A15', u'A16', u'A17'])\n",
      "df=df.replace('y', 1)\n",
      "df=df.replace('n', 0)\n",
      "import numpy as np\n",
      "df=df.replace('?',np.nan)\n",
      "df.mean()\n",
      "df=df.fillna(df.mean())\n",
      "from sklearn.cross_validation import train_test_split\n",
      "df.to_csv('House922noind.csv',index=False)\n",
      "dftrain, dftest= train_test_split(df, test_size=0.25)\n",
      "from sklearn.neighbors import KNeighborsClassifier\n",
      "from sklearn.metrics import accuracy_score\n",
      "dfx_train=dftrain[:,1:18]\n",
      "dfy_train=dftrain[:,0]\n",
      "dfx_test=dftest[:,1:18]\n",
      "dfy_test=dftest[:,0]\n",
      "from sklearn import metrics\n",
      "for x in range(1, 21):\n",
      "    clf = KNeighborsClassifier(n_neighbors=x)\n",
      "    clf.fit(dfx_train, dfy_train)\n",
      "    y_pred = clf.predict(dfx_test)\n",
      "    \n",
      "    print \"KNN classification accuracy with k =\",x, \" \",metrics.accuracy_score(dfy_test, y_pred)\n",
      "    \n",
      "\n",
      "from sklearn.linear_model import LogisticRegression \n",
      "#from statsmodels.formula.api import Logit\n",
      "\n",
      "\n",
      "logitmodel = LogisticRegression()\n",
      "logitmodel.fit(dfx_train, dfy_train)\n",
      "y_pred = logitmodel.predict(dfx_test)\n",
      "print \"-------------------------------------\"\n",
      "print \"Logistic classification accuracy with logistic regression\",metrics.accuracy_score(dfy_test, y_pred)"
     ],
     "language": "python",
     "metadata": {},
     "outputs": [
      {
       "output_type": "stream",
       "stream": "stdout",
       "text": [
        "KNN classification accuracy with k = 1   0.935779816514\n",
        "KNN classification accuracy with k = 2   0.94495412844\n",
        "KNN classification accuracy with k = 3   0.954128440367\n",
        "KNN classification accuracy with k = 4   0.94495412844\n",
        "KNN classification accuracy with k = 5   0.954128440367\n",
        "KNN classification accuracy with k = 6   0.94495412844\n",
        "KNN classification accuracy with k = 7   0.935779816514\n",
        "KNN classification accuracy with k = 8   0.935779816514\n",
        "KNN classification accuracy with k = 9   0.935779816514\n",
        "KNN classification accuracy with k = 10   0.94495412844\n",
        "KNN classification accuracy with k = 11   0.935779816514"
       ]
      },
      {
       "output_type": "stream",
       "stream": "stdout",
       "text": [
        "\n",
        "KNN classification accuracy with k = 12   0.935779816514\n",
        "KNN classification accuracy with k = 13   0.935779816514\n",
        "KNN classification accuracy with k = 14   0.94495412844\n",
        "KNN classification accuracy with k = 15   0.94495412844\n",
        "KNN classification accuracy with k = 16   0.94495412844\n",
        "KNN classification accuracy with k = 17   0.94495412844\n",
        "KNN classification accuracy with k = 18   0.935779816514\n",
        "KNN classification accuracy with k = 19   0.935779816514\n",
        "KNN classification accuracy with k = 20   0.935779816514\n",
        "-------------------------------------\n",
        "Logistic classification accuracy with logistic regression 0.97247706422\n"
       ]
      }
     ],
     "prompt_number": 6
    },
    {
     "cell_type": "markdown",
     "metadata": {},
     "source": [
      "Challenge 5\n",
      "\n",
      "Make a bar graph of democrats and republicans. How many of each are there? Make a very simple predictor that predicts 'democrat' for every incoming example. (Just make a function that takes in an X --an array or matrix with input examples--, and returns an array of the same length as X, where each value is 'democrat'. For example, if X is three rows, your function should return ['democrat','democrat','democrat']) Make a y_predicted vector using this and measure its accuracy. Do the same with predicting 'republican' all the time and measure its accuracy.\n",
      "\n",
      "\n",
      "Challenge 6\n",
      "\n",
      "Plot the accuracies as a function of k. Since k only matters for KNN, your logistic regression accuracy, 'democrat' predictor accuracy and 'republican' predictor accuracy will stay the same over all k, so each of these three will be a horizontal line. But the KNN accuracy will change with k."
     ]
    },
    {
     "cell_type": "code",
     "collapsed": false,
     "input": [
      "df_y_all=df.ix[:,0]\n",
      "df_y_all\n",
      "print \"total democrats and republicans: \",len(df_y_all)\n",
      "A1count=df.groupby('A1').size()\n",
      "print A1count\n",
      "import pylab as pl\n",
      "%matplotlib inline\n",
      "fig = pl.figure(figsize=(15,5))\n",
      "fig = pl.figure()\n",
      "ax = pl.subplot(111)\n",
      "ax.bar([1,2],[A1count[0],A1count[1]], align=\"center\",alpha=0.5)\n",
      "\n",
      "ax.set_xticks([1,2])        \n",
      "ax.set_xticklabels(['democrats','republicans'])\n",
      "pl.ylabel('#')\n",
      "pl.show()\n",
      "def RepublicanPred(XDATA):\n",
      "    OUTPUT=[]\n",
      "    for each in XDATA:\n",
      "        OUTPUT.append('republican')\n",
      "    return OUTPUT\n",
      "\n",
      "def DemocratPred(XDATA):\n",
      "    OUTPUT=[]\n",
      "    for each in XDATA:\n",
      "        OUTPUT.append('democrat')\n",
      "    return OUTPUT\n",
      "\n",
      "y_pred = DemocratPred(dfx_test)\n",
      "print \"Democrat: classification accuracy\",metrics.accuracy_score(dfy_test, y_pred)\n",
      "y_pred = RepublicanPred(dfx_test)\n",
      "print \"Republican: classification accuracy\",metrics.accuracy_score(dfy_test, y_pred)\n",
      "kPlotX=[]\n",
      "kPlotY=[]\n",
      "logPlotY=[]\n",
      "DPlotY=[]\n",
      "RPlotY=[]\n",
      "for x in range(1, 21):\n",
      "    clf = KNeighborsClassifier(n_neighbors=x)\n",
      "    clf.fit(dfx_train, dfy_train)\n",
      "    y_pred = clf.predict(dfx_test)\n",
      "    kPlotX.append(x)\n",
      "    #print \"classification accuracy with k =\",x, \" \",metrics.accuracy_score(dfy_test, y_pred)\n",
      "    kPlotY.append(metrics.accuracy_score(dfy_test, y_pred))\n",
      "    \n",
      "    logitmodel = LogisticRegression()\n",
      "    logitmodel.fit(dfx_train, dfy_train)\n",
      "    y_pred = logitmodel.predict(dfx_test)\n",
      "    #print \"classification accuracy with logistic regression\",metrics.accuracy_score(dfy_test, y_pred)\n",
      "    logPlotY.append(metrics.accuracy_score(dfy_test, y_pred))\n",
      "    \n",
      "    y_pred = DemocratPred(dfx_test)\n",
      "    DPlotY.append(metrics.accuracy_score(dfy_test, y_pred))\n",
      "    y_pred = RepublicanPred(dfx_test)\n",
      "    RPlotY.append(metrics.accuracy_score(dfy_test, y_pred))    \n",
      "#pl.figure(1)\n",
      "#pl.subplot(111)\n",
      "pl.xlabel('k nearest neighbor(s)')\n",
      "pl.ylabel('accuracy')\n",
      "pl.title('classification accuracy of different models')\n",
      "knn, = pl.plot(kPlotX, kPlotY)\n",
      "logit, = pl.plot(kPlotX, logPlotY)\n",
      "democ, = pl.plot(kPlotX, DPlotY)\n",
      "repub, = pl.plot(kPlotX, RPlotY)\n",
      "pl.legend((logit,knn,democ,repub),\n",
      "           (\"LogitReg\",\"KNN\",\"Democrat\", \"Republican\"),\n",
      "           loc='best')\n",
      "pl.show()"
     ],
     "language": "python",
     "metadata": {},
     "outputs": [
      {
       "output_type": "stream",
       "stream": "stdout",
       "text": [
        "total democrats and republicans:  434\n",
        "A1\n",
        "democrat      267\n",
        "republican    167\n",
        "dtype: int64\n"
       ]
      },
      {
       "metadata": {},
       "output_type": "display_data",
       "text": [
        "<matplotlib.figure.Figure at 0x1175dc190>"
       ]
      },
      {
       "metadata": {},
       "output_type": "display_data",
       "png": "[encoded data removed]",
       "text": [
        "<matplotlib.figure.Figure at 0x11755b0d0>"
       ]
      },
      {
       "output_type": "stream",
       "stream": "stdout",
       "text": [
        "Democrat: classification accuracy 0.614678899083\n",
        "Republican: classification accuracy 0.385321100917\n"
       ]
      },
      {
       "metadata": {},
       "output_type": "display_data",
       "png": "[encoded data removed]",
       "text": [
        "<matplotlib.figure.Figure at 0x116a7c790>"
       ]
      }
     ],
     "prompt_number": 12
    },
    {
     "cell_type": "markdown",
     "metadata": {},
     "source": [
      "Challenge 7\n",
      "\n",
      "Plot a learning curve for the logistic regression model. But instead of going through the painstaking steps of doing it yourself, use this function:\n",
      "from sklearn.learning_curve import learning_curve\n",
      "\n",
      "This will give you the m, training errors and testing errors. All you need to do is plot them. You don't even need to give it separate training/test sets. It will do crossvalidation all by itself. Easy, isn't it? : )\n",
      "\n",
      "Remember, since it does cross-validation, it doesn't have a single training error or test error per m value. Instead, it has one for each fold (separate partition) of the cross validation. A good idea is to take the mean of these errors from different folds. This gives you a meaningful single number per m. What I mean is that doing something like: train_cv_err = np.mean(train_err,axis=1) test_cv_err = np.mean(ts_err,axis=1)\n",
      "\n",
      "before plotting m vs train_cv_err and m vs test_cv_err, where train_err and test_err are the vectors returned by the learning curve function. The np.mean(...., axis=1) means take the mean along axis 1 (axis 1 is the columns axis-- for each row, you have a bunch of columns, each corresponding to a cross validation fold, you are averaging these columns for each row).\n",
      "\n",
      "Draw the learning curve for KNN with the best k value as well."
     ]
    },
    {
     "cell_type": "code",
     "collapsed": false,
     "input": [
      "from sklearn.learning_curve import learning_curve\n",
      "\n",
      "df_array=df.values\n",
      "df_x=df_array[:,0]\n",
      "df_y=df_array[:,1:18]\n",
      "m, train_scores, test_scores=learning_curve(logitmodel, dfx_train, dfy_train,train_sizes=np.linspace(0.1, 1.0, 196))\n",
      "train_cv_err = np.mean(train_scores,axis=1) \n",
      "test_cv_err = np.mean(test_scores,axis=1)\n",
      "\n",
      "tr, = pl.plot(m,train_cv_err)\n",
      "ts, = pl.plot(m,test_cv_err)\n",
      "pl.legend((tr,ts),('training','test'),loc='best')\n",
      "pl.title('Logistic Regression Learning Curve')\n",
      "pl.xlabel('folds (m)')\n",
      "pl.ylabel('accuracy')\n",
      "pl.show()\n",
      "m, train_scores, test_scores=learning_curve(KNeighborsClassifier(n_neighbors=5), dfx_train, dfy_train, train_sizes=np.linspace(0.1, 1, 196))\n",
      "train_cv_err = np.mean(train_scores,axis=1) \n",
      "test_cv_err = np.mean(test_scores,axis=1)\n",
      "\n",
      "tr, =pl.plot(m,train_cv_err)\n",
      "ts, = pl.plot(m,test_cv_err)\n",
      "pl.legend((tr,ts),('training','test'),loc='best')\n",
      "pl.title('KNN with k=5 Learning Curve')\n",
      "pl.xlabel('folds (m)')\n",
      "pl.ylabel('accuracy')"
     ],
     "language": "python",
     "metadata": {},
     "outputs": [
      {
       "metadata": {},
       "output_type": "display_data",
       "png": "[encoded data removed]",
       "text": [
        "<matplotlib.figure.Figure at 0x1179509d0>"
       ]
      },
      {
       "metadata": {},
       "output_type": "pyout",
       "prompt_number": 16,
       "text": [
        "<matplotlib.text.Text at 0x11763b4d0>"
       ]
      },
      {
       "metadata": {},
       "output_type": "display_data",
       "png": "[encoded data removed]",
       "text": [
        "<matplotlib.figure.Figure at 0x117845f10>"
       ]
      }
     ],
     "prompt_number": 16
    },
    {
     "cell_type": "markdown",
     "metadata": {},
     "source": [
      "Challenge 8\n",
      "\n",
      "This is a preview of many other classification algorithms that we will go over. Scikit.learn has the same interface for all of these, so you can use them exactly the same way as you did LogisticRegression and KNeighborsClassifier. Use each of these to classify your data and print the test accuracy of each:\n",
      "\n",
      "Gaussian Naive Bayes \n",
      "from sklearn.naive_bayes import GaussianNB\n",
      "\n",
      "SVM (Support Vector Machine) Classifier\n",
      "from sklearn.svm import SVC\n",
      "\n",
      "Decision Tree\n",
      "from sklearn.tree import DecisionTreeClassifier\n",
      "\n",
      "Random Forest\n",
      "from sklearn.ensemble import RandomForestClassifier"
     ]
    },
    {
     "cell_type": "code",
     "collapsed": false,
     "input": [
      "from sklearn.naive_bayes import GaussianNB\n",
      "from sklearn.svm import SVC\n",
      "from sklearn.tree import DecisionTreeClassifier\n",
      "from sklearn.ensemble import RandomForestClassifier\n",
      "\n",
      "\n",
      "GNB = GaussianNB()\n",
      "GNB.fit(dfx_train, dfy_train)\n",
      "y_pred = GNB.predict(dfx_test)\n",
      "print \"GaussianNB classification accuracy: \",metrics.accuracy_score(dfy_test, y_pred)\n",
      "model=SVC()\n",
      "model.fit(dfx_train, dfy_train)\n",
      "y_pred = model.predict(dfx_test)\n",
      "print \"SVC classification accuracy: \",metrics.accuracy_score(dfy_test, y_pred)\n",
      "DTC = DecisionTreeClassifier()\n",
      "DTC.fit(dfx_train, dfy_train)\n",
      "y_pred = DTC.predict(dfx_test)\n",
      "print \"DecisionTreeClassifier classification accuracy: \",metrics.accuracy_score(dfy_test, y_pred)\n",
      "RFC = RandomForestClassifier()\n",
      "RFC.fit(dfx_train, dfy_train)\n",
      "y_pred = RFC.predict(dfx_test)\n",
      "print \"RandomForestClassifier: classification accuracy\",metrics.accuracy_score(dfy_test, y_pred)"
     ],
     "language": "python",
     "metadata": {},
     "outputs": [
      {
       "output_type": "stream",
       "stream": "stdout",
       "text": [
        "GaussianNB classification accuracy:  0.94495412844\n",
        "SVC classification accuracy:  0.954128440367\n",
        "DecisionTreeClassifier classification accuracy:  0.926605504587\n",
        "RandomForestClassifier: classification accuracy 0.963302752294\n"
       ]
      }
     ],
     "prompt_number": 20
    },
    {
     "cell_type": "markdown",
     "metadata": {},
     "source": [
      "Challenge 9\n",
      "\n",
      "There is actually a way to do cross validation quickly to get your accuracy results for an algorithm, without separating training and test yourself: from sklearn.cross_validation import cross_val_score\n",
      "\n",
      "Just like the learning_curve function, this takes a classifier object, X and Y. Returns accuracy (or whatever score you prefer by using the scoring keyword argument). Of course, it will return a score for each cross validation fold, so to get the generalized accuracy, you need to take the mean of what it returns.\n",
      "\n",
      "Use this function to calculate the cross validation score of each of the classifiers you tried before."
     ]
    },
    {
     "cell_type": "code",
     "collapsed": false,
     "input": [
      "from sklearn.cross_validation import cross_val_score\n",
      "\n",
      "algorith_name = []\n",
      "algorithm_accuracy = []\n",
      "for algorithm in (KNeighborsClassifier,\n",
      "                  LogisticRegression, \n",
      "                  GaussianNB,\n",
      "                  SVC,\n",
      "                  DecisionTreeClassifier,\n",
      "                  RandomForestClassifier):\n",
      "\n",
      "    accuracy = np.mean(cross_val_score(algorithm(), dfx_train,dfy_train, cv=20)) \n",
      "    print algorithm.__name__ , \"accuracy: \" , accuracy"
     ],
     "language": "python",
     "metadata": {},
     "outputs": [
      {
       "output_type": "stream",
       "stream": "stdout",
       "text": [
        "KNeighborsClassifier accuracy:  0.928881987578\n",
        "LogisticRegression"
       ]
      },
      {
       "output_type": "stream",
       "stream": "stdout",
       "text": [
        " accuracy:  0.96314699793\n",
        "GaussianNB"
       ]
      },
      {
       "output_type": "stream",
       "stream": "stdout",
       "text": [
        " accuracy:  0.939958592133\n",
        "SVC"
       ]
      },
      {
       "output_type": "stream",
       "stream": "stdout",
       "text": [
        " accuracy:  0.949275362319\n",
        "DecisionTreeClassifier"
       ]
      },
      {
       "output_type": "stream",
       "stream": "stdout",
       "text": [
        " accuracy:  0.935196687371\n",
        "RandomForestClassifier"
       ]
      },
      {
       "output_type": "stream",
       "stream": "stdout",
       "text": [
        " accuracy:  0.944099378882\n"
       ]
      }
     ],
     "prompt_number": 34
    },
    {
     "cell_type": "markdown",
     "metadata": {},
     "source": [
      "Challenge 10\n",
      "\n",
      "Instead of 'democrat' or 'republican', can you predict the vote of a representative based on their other votes?\n",
      "\n",
      "Reload the data from scratch. Convert y-->1, n-->0. Choose one vote. Build a classifier (logistic regression or KNN), that uses the other votes (do not use the party as a feature) to predict if the vote will be 1 or 0.\n",
      "\n",
      "Convert each ? to the mode of the column (if a senator has not voted, make their vote 1 if most others voted 1, make it 0 if most others voted 0).\n",
      "\n",
      "Calculate the cross validation accuracy of your classifier for predicting how each representative will vote on the issue."
     ]
    },
    {
     "cell_type": "code",
     "collapsed": false,
     "input": [
      "df=[];\n",
      "df=pd.read_csv('house.txt')\n",
      "df.columns = pd.Index([u'A1', u'A2', u'A3', u'A4', u'A5', u'A6', u'A7', u'A8', u'A9', u'A10', u'A11', u'A12', u'A13', u'A14', u'A15', u'A16', u'A17'])\n",
      "df=df.replace('y', 1)\n",
      "df=df.replace('n', 0)\n",
      "df=df.replace('?',np.nan)\n",
      "df.mode()\n",
      "df=df.fillna(df.mode())\n",
      "dfx_train1=df.values[:,1:10]\n",
      "dfx_train2=df.values[:,11:18]\n",
      "dfx_train=np.append(dfx_train1 , dfx_train2)\n",
      "dfy_train=df.values[:,10]"
     ],
     "language": "python",
     "metadata": {},
     "outputs": [],
     "prompt_number": 40
    },
    {
     "cell_type": "code",
     "collapsed": false,
     "input": [
      "dfx_test=dftest[:,1:18]\n",
      "dfy_test=dftest[:,0]\n",
      "from sklearn import metrics\n",
      "for x in range(1, 21):\n",
      "    clf = KNeighborsClassifier(n_neighbors=x)\n",
      "    clf.fit(dfx_train, dfy_train)\n",
      "    y_pred = clf.predict(dfx_test)\n",
      "    \n",
      "    print \"KNN classification accuracy with k =\",x, \" \",metrics.accuracy_score(dfy_test, y_pred)\n",
      "    \n",
      "\n",
      "from sklearn.linear_model import LogisticRegression \n",
      "#from statsmodels.formula.api import Logit\n",
      "\n",
      "\n",
      "logitmodel = LogisticRegression()\n",
      "logitmodel.fit(dfx_train, dfy_train)\n",
      "y_pred = logitmodel.predict(dfx_test)\n",
      "print \"-------------------------------------\"\n",
      "print \"Logistic classification accuracy with logistic regression\",metrics.accuracy_score(dfy_test, y_pred)"
     ],
     "language": "python",
     "metadata": {},
     "outputs": []
    },
    {
     "cell_type": "markdown",
     "metadata": {},
     "source": [
      "Challenge 11\n",
      "\n",
      "Back to your movie data! Choose one categoric feature to predict. I chose MPAA Rating, but genre, month, etc. are all decent choices. If you don't have any non-numeric features, you can make two bins out of a numeric one (like \"Runtime>100 mins\" and \"Runtime<=100 mins\")\n",
      "\n",
      "Make a bar graph of how many of each movie there is in the data. For example, with Ratings, show how many G, PG, PG-13, R movies there are, etc. (basically a histogram of your labels).\n",
      "\n",
      "Predict your outcome variable (labels) using KNN and logistic regression. Calculate their accuracies.\n",
      "\n",
      "Make a baseline stupid predictor that always predicts the label that is present the most in the data. Calculate its accuracy on a test set.\n",
      "\n",
      "How much better do KNN and logistic regression do versus the baseline?\n",
      "\n",
      "What are the coefficients of logistic regression? Which features affect the outcome how?"
     ]
    },
    {
     "cell_type": "code",
     "collapsed": false,
     "input": [],
     "language": "python",
     "metadata": {},
     "outputs": []
    },
    {
     "cell_type": "markdown",
     "metadata": {},
     "source": [
      "Challenge 12\n",
      "\n",
      "Now you are a classification master. The representative votes dataset only had 0s and 1s. Let's just swiftly tackle the breast cancer surgery data we talked about in class.\n",
      "\n",
      "Get it from here10.\n",
      "What is the average and standard deviation of the age of all of the patients? What is the average and standard deviation of the age of those patients that survived 5 or more years after surgery?\n",
      "What is the average and standard deviation of the age of those patients who survived fewer than 5 years after surgery?\n",
      "Plot a histogram of the ages side by side with a histogram of the number of axillary nodes.\n",
      "What is the earliest year of surgery in this dataset?\n",
      "What is the most recent year of surgery?\n",
      "\n",
      "Use logistic regression to predict survival after 5 years. How well does your model do? What are the coefficients of logistic regression? Which features affect the outcome how?\n",
      "\n",
      "Draw the learning curve for logistic regression in this case."
     ]
    },
    {
     "cell_type": "code",
     "collapsed": false,
     "input": [],
     "language": "python",
     "metadata": {},
     "outputs": []
    },
    {
     "cell_type": "code",
     "collapsed": false,
     "input": [],
     "language": "python",
     "metadata": {},
     "outputs": []
    }
   ],
   "metadata": {}
  }
 ]
}